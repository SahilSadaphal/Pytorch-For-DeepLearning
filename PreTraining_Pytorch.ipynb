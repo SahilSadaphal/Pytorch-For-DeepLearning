{
  "nbformat": 4,
  "nbformat_minor": 0,
  "metadata": {
    "colab": {
      "provenance": [],
      "gpuType": "T4"
    },
    "kernelspec": {
      "name": "python3",
      "display_name": "Python 3"
    },
    "language_info": {
      "name": "python"
    },
    "accelerator": "GPU"
  },
  "cells": [
    {
      "cell_type": "code",
      "execution_count": 2,
      "metadata": {
        "id": "qOP4fsKTAYSw"
      },
      "outputs": [],
      "source": [
        "import pandas as pd\n",
        "import numpy as np\n",
        "import matplotlib.pyplot as plt\n",
        "import seaborn as sns\n",
        "from sklearn.model_selection import train_test_split\n",
        "import torch\n",
        "from torch.utils.data import Dataset, DataLoader\n",
        "import torch.nn as nn\n",
        "import torch.optim as optim\n",
        "import matplotlib.pyplot as plt"
      ]
    },
    {
      "cell_type": "code",
      "source": [
        "# Set random seeds for reproducibility\n",
        "torch.manual_seed(42)"
      ],
      "metadata": {
        "colab": {
          "base_uri": "https://localhost:8080/"
        },
        "id": "gEGrEbHLAi1G",
        "outputId": "37c19a80-7f1b-4e66-e4b0-2580ca3a5483"
      },
      "execution_count": 3,
      "outputs": [
        {
          "output_type": "execute_result",
          "data": {
            "text/plain": [
              "<torch._C.Generator at 0x7b3b1cec7210>"
            ]
          },
          "metadata": {},
          "execution_count": 3
        }
      ]
    },
    {
      "cell_type": "code",
      "source": [
        "# Check for GPU\n",
        "device = torch.device('cuda' if torch.cuda.is_available() else 'cpu')\n",
        "print(f\"Using device: {device}\")"
      ],
      "metadata": {
        "colab": {
          "base_uri": "https://localhost:8080/"
        },
        "id": "S6GJFUsZAi2z",
        "outputId": "6006e934-e697-451a-8b1f-aa32fab0c352"
      },
      "execution_count": 4,
      "outputs": [
        {
          "output_type": "stream",
          "name": "stdout",
          "text": [
            "Using device: cuda\n"
          ]
        }
      ]
    },
    {
      "cell_type": "code",
      "source": [
        "df=pd.read_csv('fmnist_small.csv')"
      ],
      "metadata": {
        "id": "TV1bb256Ai75"
      },
      "execution_count": 5,
      "outputs": []
    },
    {
      "cell_type": "code",
      "source": [
        "X=df.drop('label',axis=1)\n",
        "y=df['label']"
      ],
      "metadata": {
        "id": "V5SMIzbjAi9f"
      },
      "execution_count": 6,
      "outputs": []
    },
    {
      "cell_type": "code",
      "source": [
        "X_train, X_test, y_train, y_test = train_test_split(X, y, test_size=0.2, random_state=42)"
      ],
      "metadata": {
        "id": "ADRQppMLAjC0"
      },
      "execution_count": 7,
      "outputs": []
    },
    {
      "cell_type": "code",
      "source": [
        "# We have to transform our data to fit in pre trained model\n",
        "\n",
        "# transformations\n",
        "from torchvision.transforms import transforms\n",
        "\n",
        "custom_transform = transforms.Compose([\n",
        "    transforms.Resize(256),\n",
        "    transforms.CenterCrop(224),\n",
        "    transforms.ToTensor(),\n",
        "    transforms.Normalize(mean=[0.485, 0.456, 0.406], std=[0.229, 0.224, 0.225])\n",
        "])"
      ],
      "metadata": {
        "id": "0N2j23QZAjEN"
      },
      "execution_count": 8,
      "outputs": []
    },
    {
      "cell_type": "code",
      "source": [
        "from torch.utils.data import Dataset\n",
        "from PIL import Image\n",
        "import numpy as np\n",
        "import torch\n",
        "\n",
        "class CustomDataset(Dataset):\n",
        "    def __init__(self, features, labels, transform):\n",
        "        self.features = features  # likely a DataFrame\n",
        "        self.labels = labels      # likely a Series or DataFrame column\n",
        "        self.transform = transform\n",
        "\n",
        "    def __len__(self):\n",
        "        return len(self.features)\n",
        "\n",
        "    def __getitem__(self, index):\n",
        "        # Get the row and reshape to 28x28\n",
        "        image = self.features.iloc[index].values.reshape(28, 28).astype(np.uint8)\n",
        "\n",
        "        # Convert grayscale to RGB (3-channel)\n",
        "        image = np.stack([image] * 3, axis=-1)\n",
        "\n",
        "        # Convert to PIL Image\n",
        "        image = Image.fromarray(image)\n",
        "\n",
        "        # Apply transform\n",
        "        image = self.transform(image)\n",
        "\n",
        "        # Get label\n",
        "        label = torch.tensor(self.labels.iloc[index], dtype=torch.long)\n",
        "\n",
        "        return image, label\n"
      ],
      "metadata": {
        "id": "sxQq_8vtAjK2"
      },
      "execution_count": 42,
      "outputs": []
    },
    {
      "cell_type": "code",
      "source": [
        "train_dataset = CustomDataset(X_train, y_train, transform=custom_transform)\n",
        "test_dataset = CustomDataset(X_test, y_test, transform=custom_transform)"
      ],
      "metadata": {
        "id": "1utZta2KAjMW"
      },
      "execution_count": 44,
      "outputs": []
    },
    {
      "cell_type": "code",
      "source": [
        "train_loader = DataLoader(train_dataset, batch_size=32, shuffle=True)\n",
        "test_loader = DataLoader(test_dataset, batch_size=32, shuffle=False)"
      ],
      "metadata": {
        "id": "8CZkDVjrAjSh"
      },
      "execution_count": 45,
      "outputs": []
    },
    {
      "cell_type": "code",
      "source": [
        "# fetch the pretrained model\n",
        "\n",
        "import torchvision.models as models\n",
        "\n",
        "vgg16 = models.vgg16(pretrained=True)"
      ],
      "metadata": {
        "id": "HNEqZwnhAjXz"
      },
      "execution_count": 46,
      "outputs": []
    },
    {
      "cell_type": "code",
      "source": [
        "vgg16"
      ],
      "metadata": {
        "colab": {
          "base_uri": "https://localhost:8080/"
        },
        "id": "gFHB00nXAjZe",
        "outputId": "9d8b7d74-e1a0-40e5-ff30-bb3c516500bc"
      },
      "execution_count": 47,
      "outputs": [
        {
          "output_type": "execute_result",
          "data": {
            "text/plain": [
              "VGG(\n",
              "  (features): Sequential(\n",
              "    (0): Conv2d(3, 64, kernel_size=(3, 3), stride=(1, 1), padding=(1, 1))\n",
              "    (1): ReLU(inplace=True)\n",
              "    (2): Conv2d(64, 64, kernel_size=(3, 3), stride=(1, 1), padding=(1, 1))\n",
              "    (3): ReLU(inplace=True)\n",
              "    (4): MaxPool2d(kernel_size=2, stride=2, padding=0, dilation=1, ceil_mode=False)\n",
              "    (5): Conv2d(64, 128, kernel_size=(3, 3), stride=(1, 1), padding=(1, 1))\n",
              "    (6): ReLU(inplace=True)\n",
              "    (7): Conv2d(128, 128, kernel_size=(3, 3), stride=(1, 1), padding=(1, 1))\n",
              "    (8): ReLU(inplace=True)\n",
              "    (9): MaxPool2d(kernel_size=2, stride=2, padding=0, dilation=1, ceil_mode=False)\n",
              "    (10): Conv2d(128, 256, kernel_size=(3, 3), stride=(1, 1), padding=(1, 1))\n",
              "    (11): ReLU(inplace=True)\n",
              "    (12): Conv2d(256, 256, kernel_size=(3, 3), stride=(1, 1), padding=(1, 1))\n",
              "    (13): ReLU(inplace=True)\n",
              "    (14): Conv2d(256, 256, kernel_size=(3, 3), stride=(1, 1), padding=(1, 1))\n",
              "    (15): ReLU(inplace=True)\n",
              "    (16): MaxPool2d(kernel_size=2, stride=2, padding=0, dilation=1, ceil_mode=False)\n",
              "    (17): Conv2d(256, 512, kernel_size=(3, 3), stride=(1, 1), padding=(1, 1))\n",
              "    (18): ReLU(inplace=True)\n",
              "    (19): Conv2d(512, 512, kernel_size=(3, 3), stride=(1, 1), padding=(1, 1))\n",
              "    (20): ReLU(inplace=True)\n",
              "    (21): Conv2d(512, 512, kernel_size=(3, 3), stride=(1, 1), padding=(1, 1))\n",
              "    (22): ReLU(inplace=True)\n",
              "    (23): MaxPool2d(kernel_size=2, stride=2, padding=0, dilation=1, ceil_mode=False)\n",
              "    (24): Conv2d(512, 512, kernel_size=(3, 3), stride=(1, 1), padding=(1, 1))\n",
              "    (25): ReLU(inplace=True)\n",
              "    (26): Conv2d(512, 512, kernel_size=(3, 3), stride=(1, 1), padding=(1, 1))\n",
              "    (27): ReLU(inplace=True)\n",
              "    (28): Conv2d(512, 512, kernel_size=(3, 3), stride=(1, 1), padding=(1, 1))\n",
              "    (29): ReLU(inplace=True)\n",
              "    (30): MaxPool2d(kernel_size=2, stride=2, padding=0, dilation=1, ceil_mode=False)\n",
              "  )\n",
              "  (avgpool): AdaptiveAvgPool2d(output_size=(7, 7))\n",
              "  (classifier): Sequential(\n",
              "    (0): Linear(in_features=25088, out_features=4096, bias=True)\n",
              "    (1): ReLU(inplace=True)\n",
              "    (2): Dropout(p=0.5, inplace=False)\n",
              "    (3): Linear(in_features=4096, out_features=4096, bias=True)\n",
              "    (4): ReLU(inplace=True)\n",
              "    (5): Dropout(p=0.5, inplace=False)\n",
              "    (6): Linear(in_features=4096, out_features=1000, bias=True)\n",
              "  )\n",
              ")"
            ]
          },
          "metadata": {},
          "execution_count": 47
        }
      ]
    },
    {
      "cell_type": "code",
      "source": [
        "# Freezing feature layers parameters\n",
        "for param in vgg16.features.parameters():\n",
        "  param.requires_grad=False"
      ],
      "metadata": {
        "id": "_6EJEWkPAjgU"
      },
      "execution_count": 48,
      "outputs": []
    },
    {
      "cell_type": "code",
      "source": [
        "vgg16.classifier = nn.Sequential(\n",
        "    nn.Linear(25088, 1024),\n",
        "    nn.ReLU(),\n",
        "    nn.Dropout(0.5),\n",
        "    nn.Linear(1024, 512),\n",
        "    nn.ReLU(),\n",
        "    nn.Dropout(0.5),\n",
        "    nn.Linear(512, 10)\n",
        ")"
      ],
      "metadata": {
        "id": "-Lp2DeamAjhz"
      },
      "execution_count": 49,
      "outputs": []
    },
    {
      "cell_type": "code",
      "source": [
        "vgg16 = vgg16.to(device)"
      ],
      "metadata": {
        "id": "VO8brY1lAjop"
      },
      "execution_count": 50,
      "outputs": []
    },
    {
      "cell_type": "code",
      "source": [
        "learning_rate = 0.0001\n",
        "epochs = 100"
      ],
      "metadata": {
        "id": "xYiUTYTkAjtk"
      },
      "execution_count": 54,
      "outputs": []
    },
    {
      "cell_type": "code",
      "source": [
        "criterion = nn.CrossEntropyLoss()\n",
        "optimizer = optim.Adam(vgg16.classifier.parameters(), lr=learning_rate)"
      ],
      "metadata": {
        "id": "EnSh66PLAjvS"
      },
      "execution_count": 55,
      "outputs": []
    },
    {
      "cell_type": "code",
      "source": [
        "# training loop\n",
        "\n",
        "for epoch in range(epochs):\n",
        "\n",
        "  total_epoch_loss = 0\n",
        "\n",
        "  for batch_features, batch_labels in train_loader:\n",
        "\n",
        "    # move data to gpu\n",
        "    batch_features, batch_labels = batch_features.to(device), batch_labels.to(device)\n",
        "\n",
        "    # forward pass\n",
        "    outputs = vgg16(batch_features)\n",
        "\n",
        "    print(outputs.shape)\n",
        "    print(batch_labels.shape)\n",
        "\n",
        "    # calculate loss\n",
        "    loss = criterion(outputs, batch_labels)\n",
        "\n",
        "    # back pass\n",
        "    optimizer.zero_grad()\n",
        "    loss.backward()\n",
        "\n",
        "    # update grads\n",
        "    optimizer.step()\n",
        "\n",
        "    total_epoch_loss = total_epoch_loss + loss.item()\n",
        "\n",
        "    break\n",
        "\n",
        "  avg_loss = total_epoch_loss/len(train_loader)\n",
        "  print(f'Epoch: {epoch + 1} , Loss: {avg_loss}')\n",
        "\n"
      ],
      "metadata": {
        "colab": {
          "base_uri": "https://localhost:8080/"
        },
        "id": "doSfXRzVAj0O",
        "outputId": "fb7bdcb7-dfe4-488f-f41d-01b1cddcaaf6"
      },
      "execution_count": 56,
      "outputs": [
        {
          "output_type": "stream",
          "name": "stdout",
          "text": [
            "torch.Size([32, 10])\n",
            "torch.Size([32])\n",
            "Epoch: 1 , Loss: 0.012084612051645915\n",
            "torch.Size([32, 10])\n",
            "torch.Size([32])\n",
            "Epoch: 2 , Loss: 0.010795138676961262\n",
            "torch.Size([32, 10])\n",
            "torch.Size([32])\n",
            "Epoch: 3 , Loss: 0.012203238010406493\n",
            "torch.Size([32, 10])\n",
            "torch.Size([32])\n",
            "Epoch: 4 , Loss: 0.010880751609802246\n",
            "torch.Size([32, 10])\n",
            "torch.Size([32])\n",
            "Epoch: 5 , Loss: 0.011050163904825846\n",
            "torch.Size([32, 10])\n",
            "torch.Size([32])\n",
            "Epoch: 6 , Loss: 0.009534938335418701\n",
            "torch.Size([32, 10])\n",
            "torch.Size([32])\n",
            "Epoch: 7 , Loss: 0.009087337652842203\n",
            "torch.Size([32, 10])\n",
            "torch.Size([32])\n",
            "Epoch: 8 , Loss: 0.00897388219833374\n",
            "torch.Size([32, 10])\n",
            "torch.Size([32])\n",
            "Epoch: 9 , Loss: 0.008076705137888591\n",
            "torch.Size([32, 10])\n",
            "torch.Size([32])\n",
            "Epoch: 10 , Loss: 0.007894374529520671\n",
            "torch.Size([32, 10])\n",
            "torch.Size([32])\n",
            "Epoch: 11 , Loss: 0.008121825059254965\n",
            "torch.Size([32, 10])\n",
            "torch.Size([32])\n",
            "Epoch: 12 , Loss: 0.007643632888793946\n",
            "torch.Size([32, 10])\n",
            "torch.Size([32])\n",
            "Epoch: 13 , Loss: 0.008113433519999186\n",
            "torch.Size([32, 10])\n",
            "torch.Size([32])\n",
            "Epoch: 14 , Loss: 0.006814793745676676\n",
            "torch.Size([32, 10])\n",
            "torch.Size([32])\n",
            "Epoch: 15 , Loss: 0.00798584779103597\n",
            "torch.Size([32, 10])\n",
            "torch.Size([32])\n",
            "Epoch: 16 , Loss: 0.005849357843399048\n",
            "torch.Size([32, 10])\n",
            "torch.Size([32])\n",
            "Epoch: 17 , Loss: 0.0060344199339548744\n",
            "torch.Size([32, 10])\n",
            "torch.Size([32])\n",
            "Epoch: 18 , Loss: 0.006414211988449096\n",
            "torch.Size([32, 10])\n",
            "torch.Size([32])\n",
            "Epoch: 19 , Loss: 0.006986776192982992\n",
            "torch.Size([32, 10])\n",
            "torch.Size([32])\n",
            "Epoch: 20 , Loss: 0.005772854487101237\n",
            "torch.Size([32, 10])\n",
            "torch.Size([32])\n",
            "Epoch: 21 , Loss: 0.005542539755503337\n",
            "torch.Size([32, 10])\n",
            "torch.Size([32])\n",
            "Epoch: 22 , Loss: 0.004802203973134358\n",
            "torch.Size([32, 10])\n",
            "torch.Size([32])\n",
            "Epoch: 23 , Loss: 0.005063939491907756\n",
            "torch.Size([32, 10])\n",
            "torch.Size([32])\n",
            "Epoch: 24 , Loss: 0.006664791107177734\n",
            "torch.Size([32, 10])\n",
            "torch.Size([32])\n",
            "Epoch: 25 , Loss: 0.0061029259363810226\n",
            "torch.Size([32, 10])\n",
            "torch.Size([32])\n",
            "Epoch: 26 , Loss: 0.004923797845840454\n",
            "torch.Size([32, 10])\n",
            "torch.Size([32])\n",
            "Epoch: 27 , Loss: 0.003454912503560384\n",
            "torch.Size([32, 10])\n",
            "torch.Size([32])\n",
            "Epoch: 28 , Loss: 0.004074635108311971\n",
            "torch.Size([32, 10])\n",
            "torch.Size([32])\n",
            "Epoch: 29 , Loss: 0.006293288866678874\n",
            "torch.Size([32, 10])\n",
            "torch.Size([32])\n",
            "Epoch: 30 , Loss: 0.004107611179351807\n",
            "torch.Size([32, 10])\n",
            "torch.Size([32])\n",
            "Epoch: 31 , Loss: 0.004466338157653809\n",
            "torch.Size([32, 10])\n",
            "torch.Size([32])\n",
            "Epoch: 32 , Loss: 0.005833698908487956\n",
            "torch.Size([32, 10])\n",
            "torch.Size([32])\n",
            "Epoch: 33 , Loss: 0.003569693168004354\n",
            "torch.Size([32, 10])\n",
            "torch.Size([32])\n",
            "Epoch: 34 , Loss: 0.006456567446390788\n",
            "torch.Size([32, 10])\n",
            "torch.Size([32])\n",
            "Epoch: 35 , Loss: 0.003966188828150432\n",
            "torch.Size([32, 10])\n",
            "torch.Size([32])\n",
            "Epoch: 36 , Loss: 0.005677848259607951\n",
            "torch.Size([32, 10])\n",
            "torch.Size([32])\n",
            "Epoch: 37 , Loss: 0.00403218150138855\n",
            "torch.Size([32, 10])\n",
            "torch.Size([32])\n",
            "Epoch: 38 , Loss: 0.0041182784239451094\n",
            "torch.Size([32, 10])\n",
            "torch.Size([32])\n",
            "Epoch: 39 , Loss: 0.004290544589360555\n",
            "torch.Size([32, 10])\n",
            "torch.Size([32])\n",
            "Epoch: 40 , Loss: 0.003594318230946859\n",
            "torch.Size([32, 10])\n",
            "torch.Size([32])\n",
            "Epoch: 41 , Loss: 0.005427449941635132\n",
            "torch.Size([32, 10])\n",
            "torch.Size([32])\n",
            "Epoch: 42 , Loss: 0.006119811137517293\n",
            "torch.Size([32, 10])\n",
            "torch.Size([32])\n",
            "Epoch: 43 , Loss: 0.004933001200358073\n",
            "torch.Size([32, 10])\n",
            "torch.Size([32])\n",
            "Epoch: 44 , Loss: 0.002976176341374715\n",
            "torch.Size([32, 10])\n",
            "torch.Size([32])\n",
            "Epoch: 45 , Loss: 0.003810088634490967\n",
            "torch.Size([32, 10])\n",
            "torch.Size([32])\n",
            "Epoch: 46 , Loss: 0.0038251149654388427\n",
            "torch.Size([32, 10])\n",
            "torch.Size([32])\n",
            "Epoch: 47 , Loss: 0.0033879927794138592\n",
            "torch.Size([32, 10])\n",
            "torch.Size([32])\n",
            "Epoch: 48 , Loss: 0.004346965154012044\n",
            "torch.Size([32, 10])\n",
            "torch.Size([32])\n",
            "Epoch: 49 , Loss: 0.005261266231536865\n",
            "torch.Size([32, 10])\n",
            "torch.Size([32])\n",
            "Epoch: 50 , Loss: 0.0044396384557088215\n",
            "torch.Size([32, 10])\n",
            "torch.Size([32])\n",
            "Epoch: 51 , Loss: 0.0032591551542282106\n",
            "torch.Size([32, 10])\n",
            "torch.Size([32])\n",
            "Epoch: 52 , Loss: 0.0055119804541269935\n",
            "torch.Size([32, 10])\n",
            "torch.Size([32])\n",
            "Epoch: 53 , Loss: 0.002650386095046997\n",
            "torch.Size([32, 10])\n",
            "torch.Size([32])\n",
            "Epoch: 54 , Loss: 0.003659151395161947\n",
            "torch.Size([32, 10])\n",
            "torch.Size([32])\n",
            "Epoch: 55 , Loss: 0.004032229979832967\n",
            "torch.Size([32, 10])\n",
            "torch.Size([32])\n",
            "Epoch: 56 , Loss: 0.004345860083897909\n",
            "torch.Size([32, 10])\n",
            "torch.Size([32])\n",
            "Epoch: 57 , Loss: 0.004294129212697347\n",
            "torch.Size([32, 10])\n",
            "torch.Size([32])\n",
            "Epoch: 58 , Loss: 0.004622817834218343\n",
            "torch.Size([32, 10])\n",
            "torch.Size([32])\n",
            "Epoch: 59 , Loss: 0.004459458192189535\n",
            "torch.Size([32, 10])\n",
            "torch.Size([32])\n",
            "Epoch: 60 , Loss: 0.004051776727040609\n",
            "torch.Size([32, 10])\n",
            "torch.Size([32])\n",
            "Epoch: 61 , Loss: 0.0036449734369913738\n",
            "torch.Size([32, 10])\n",
            "torch.Size([32])\n",
            "Epoch: 62 , Loss: 0.0032825281222661337\n",
            "torch.Size([32, 10])\n",
            "torch.Size([32])\n",
            "Epoch: 63 , Loss: 0.003307153383890788\n",
            "torch.Size([32, 10])\n",
            "torch.Size([32])\n",
            "Epoch: 64 , Loss: 0.0028203396002451577\n",
            "torch.Size([32, 10])\n",
            "torch.Size([32])\n",
            "Epoch: 65 , Loss: 0.0033792742093404133\n",
            "torch.Size([32, 10])\n",
            "torch.Size([32])\n",
            "Epoch: 66 , Loss: 0.0033503894011179605\n",
            "torch.Size([32, 10])\n",
            "torch.Size([32])\n",
            "Epoch: 67 , Loss: 0.0044789516925811765\n",
            "torch.Size([32, 10])\n",
            "torch.Size([32])\n",
            "Epoch: 68 , Loss: 0.0033444392681121825\n",
            "torch.Size([32, 10])\n",
            "torch.Size([32])\n",
            "Epoch: 69 , Loss: 0.004267706076304118\n",
            "torch.Size([32, 10])\n",
            "torch.Size([32])\n",
            "Epoch: 70 , Loss: 0.0034304157892862956\n",
            "torch.Size([32, 10])\n",
            "torch.Size([32])\n",
            "Epoch: 71 , Loss: 0.0033552300930023192\n",
            "torch.Size([32, 10])\n",
            "torch.Size([32])\n",
            "Epoch: 72 , Loss: 0.0023148979743321738\n",
            "torch.Size([32, 10])\n",
            "torch.Size([32])\n",
            "Epoch: 73 , Loss: 0.004438757499059041\n",
            "torch.Size([32, 10])\n",
            "torch.Size([32])\n",
            "Epoch: 74 , Loss: 0.0017632524172465007\n",
            "torch.Size([32, 10])\n",
            "torch.Size([32])\n",
            "Epoch: 75 , Loss: 0.0032598952452341716\n",
            "torch.Size([32, 10])\n",
            "torch.Size([32])\n",
            "Epoch: 76 , Loss: 0.0035671786467234294\n",
            "torch.Size([32, 10])\n",
            "torch.Size([32])\n",
            "Epoch: 77 , Loss: 0.002644485036532084\n",
            "torch.Size([32, 10])\n",
            "torch.Size([32])\n",
            "Epoch: 78 , Loss: 0.004889117876688639\n",
            "torch.Size([32, 10])\n",
            "torch.Size([32])\n",
            "Epoch: 79 , Loss: 0.0027469040950139365\n",
            "torch.Size([32, 10])\n",
            "torch.Size([32])\n",
            "Epoch: 80 , Loss: 0.003091617425282796\n",
            "torch.Size([32, 10])\n",
            "torch.Size([32])\n",
            "Epoch: 81 , Loss: 0.003104658325513204\n",
            "torch.Size([32, 10])\n",
            "torch.Size([32])\n",
            "Epoch: 82 , Loss: 0.0028779013951619466\n",
            "torch.Size([32, 10])\n",
            "torch.Size([32])\n",
            "Epoch: 83 , Loss: 0.0037120644251505534\n",
            "torch.Size([32, 10])\n",
            "torch.Size([32])\n",
            "Epoch: 84 , Loss: 0.004442761341730754\n",
            "torch.Size([32, 10])\n",
            "torch.Size([32])\n",
            "Epoch: 85 , Loss: 0.0024786839882532754\n",
            "torch.Size([32, 10])\n",
            "torch.Size([32])\n",
            "Epoch: 86 , Loss: 0.0035064029693603516\n",
            "torch.Size([32, 10])\n",
            "torch.Size([32])\n",
            "Epoch: 87 , Loss: 0.0031553739309310913\n",
            "torch.Size([32, 10])\n",
            "torch.Size([32])\n",
            "Epoch: 88 , Loss: 0.0021805169185002645\n",
            "torch.Size([32, 10])\n",
            "torch.Size([32])\n",
            "Epoch: 89 , Loss: 0.002508885661760966\n",
            "torch.Size([32, 10])\n",
            "torch.Size([32])\n",
            "Epoch: 90 , Loss: 0.003078105648358663\n",
            "torch.Size([32, 10])\n",
            "torch.Size([32])\n",
            "Epoch: 91 , Loss: 0.0026659399271011354\n",
            "torch.Size([32, 10])\n",
            "torch.Size([32])\n",
            "Epoch: 92 , Loss: 0.0028591440121332806\n",
            "torch.Size([32, 10])\n",
            "torch.Size([32])\n",
            "Epoch: 93 , Loss: 0.003084268569946289\n",
            "torch.Size([32, 10])\n",
            "torch.Size([32])\n",
            "Epoch: 94 , Loss: 0.0018059790134429931\n",
            "torch.Size([32, 10])\n",
            "torch.Size([32])\n",
            "Epoch: 95 , Loss: 0.001907816727956136\n",
            "torch.Size([32, 10])\n",
            "torch.Size([32])\n",
            "Epoch: 96 , Loss: 0.002024511694908142\n",
            "torch.Size([32, 10])\n",
            "torch.Size([32])\n",
            "Epoch: 97 , Loss: 0.003398745854695638\n",
            "torch.Size([32, 10])\n",
            "torch.Size([32])\n",
            "Epoch: 98 , Loss: 0.0024648926655451457\n",
            "torch.Size([32, 10])\n",
            "torch.Size([32])\n",
            "Epoch: 99 , Loss: 0.002920779983202616\n",
            "torch.Size([32, 10])\n",
            "torch.Size([32])\n",
            "Epoch: 100 , Loss: 0.0020654682318369546\n"
          ]
        }
      ]
    },
    {
      "cell_type": "code",
      "source": [
        "# evaluation on test data\n",
        "total = 0\n",
        "correct = 0\n",
        "\n",
        "with torch.no_grad():\n",
        "\n",
        "  for batch_features, batch_labels in test_loader:\n",
        "\n",
        "    # move data to gpu\n",
        "    batch_features, batch_labels = batch_features.to(device), batch_labels.to(device)\n",
        "\n",
        "    outputs = vgg16(batch_features)\n",
        "\n",
        "    _, predicted = torch.max(outputs, 1)\n",
        "\n",
        "    total = total + batch_labels.shape[0]\n",
        "\n",
        "    correct = correct + (predicted == batch_labels).sum().item()\n",
        "\n",
        "print(correct/total)"
      ],
      "metadata": {
        "colab": {
          "base_uri": "https://localhost:8080/"
        },
        "id": "7bfeFi3cAj12",
        "outputId": "57e9a831-af5f-4baa-9d83-f07d2751a306"
      },
      "execution_count": 57,
      "outputs": [
        {
          "output_type": "stream",
          "name": "stdout",
          "text": [
            "0.8091666666666667\n"
          ]
        }
      ]
    },
    {
      "cell_type": "code",
      "source": [
        "# evaluation on training data\n",
        "total = 0\n",
        "correct = 0\n",
        "\n",
        "with torch.no_grad():\n",
        "\n",
        "  for batch_features, batch_labels in train_loader:\n",
        "\n",
        "    # move data to gpu\n",
        "    batch_features, batch_labels = batch_features.to(device), batch_labels.to(device)\n",
        "\n",
        "    outputs = vgg16(batch_features)\n",
        "\n",
        "    _, predicted = torch.max(outputs, 1)\n",
        "\n",
        "    total = total + batch_labels.shape[0]\n",
        "\n",
        "    correct = correct + (predicted == batch_labels).sum().item()\n",
        "\n",
        "print(correct/total)"
      ],
      "metadata": {
        "colab": {
          "base_uri": "https://localhost:8080/"
        },
        "id": "8JsS0uv9Aj7q",
        "outputId": "257ab07e-4580-409e-aa68-48ef67130811"
      },
      "execution_count": 58,
      "outputs": [
        {
          "output_type": "stream",
          "name": "stdout",
          "text": [
            "0.848125\n"
          ]
        }
      ]
    },
    {
      "cell_type": "code",
      "source": [],
      "metadata": {
        "id": "nbTr6_diAj81"
      },
      "execution_count": 53,
      "outputs": []
    },
    {
      "cell_type": "code",
      "source": [],
      "metadata": {
        "id": "5KAJcH5PAkB0"
      },
      "execution_count": 53,
      "outputs": []
    },
    {
      "cell_type": "code",
      "source": [],
      "metadata": {
        "id": "Qs4nREaNAkDc"
      },
      "execution_count": 53,
      "outputs": []
    },
    {
      "cell_type": "code",
      "source": [],
      "metadata": {
        "id": "JE9A1K5cAksX"
      },
      "execution_count": 53,
      "outputs": []
    },
    {
      "cell_type": "code",
      "source": [],
      "metadata": {
        "id": "B6c8OMHJAkwQ"
      },
      "execution_count": 53,
      "outputs": []
    },
    {
      "cell_type": "code",
      "source": [],
      "metadata": {
        "id": "_XIKRsfYAk3z"
      },
      "execution_count": 53,
      "outputs": []
    },
    {
      "cell_type": "code",
      "source": [],
      "metadata": {
        "id": "HdqWXJCiAk7g"
      },
      "execution_count": 53,
      "outputs": []
    },
    {
      "cell_type": "code",
      "source": [],
      "metadata": {
        "id": "W0WdYC8hAk_m"
      },
      "execution_count": 53,
      "outputs": []
    },
    {
      "cell_type": "code",
      "source": [],
      "metadata": {
        "id": "D4U7fufzAlBS"
      },
      "execution_count": 53,
      "outputs": []
    },
    {
      "cell_type": "code",
      "source": [],
      "metadata": {
        "id": "5ZpDnrWVAlFZ"
      },
      "execution_count": 53,
      "outputs": []
    },
    {
      "cell_type": "code",
      "source": [],
      "metadata": {
        "id": "j5dWDPsPAlKt"
      },
      "execution_count": 53,
      "outputs": []
    },
    {
      "cell_type": "code",
      "source": [],
      "metadata": {
        "id": "U0D1hqxWAlMT"
      },
      "execution_count": 53,
      "outputs": []
    },
    {
      "cell_type": "code",
      "source": [],
      "metadata": {
        "id": "XcxL0sYsAlSt"
      },
      "execution_count": 53,
      "outputs": []
    },
    {
      "cell_type": "code",
      "source": [],
      "metadata": {
        "id": "7jB8fiy3AlUb"
      },
      "execution_count": 53,
      "outputs": []
    },
    {
      "cell_type": "code",
      "source": [],
      "metadata": {
        "id": "0sMELex7AlhQ"
      },
      "execution_count": 53,
      "outputs": []
    },
    {
      "cell_type": "code",
      "source": [],
      "metadata": {
        "id": "WHZ4uGVcAli6"
      },
      "execution_count": 53,
      "outputs": []
    },
    {
      "cell_type": "code",
      "source": [],
      "metadata": {
        "id": "vD7lKMKnAlmr"
      },
      "execution_count": 53,
      "outputs": []
    }
  ]
}