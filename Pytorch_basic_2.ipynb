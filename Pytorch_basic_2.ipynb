{
  "nbformat": 4,
  "nbformat_minor": 0,
  "metadata": {
    "colab": {
      "provenance": []
    },
    "kernelspec": {
      "name": "python3",
      "display_name": "Python 3"
    },
    "language_info": {
      "name": "python"
    }
  },
  "cells": [
    {
      "cell_type": "code",
      "execution_count": 1,
      "metadata": {
        "colab": {
          "base_uri": "https://localhost:8080/"
        },
        "id": "3VD68woDCBXK",
        "outputId": "75a1f3de-ad0a-41ca-d0e2-8e5654e34557"
      },
      "outputs": [
        {
          "output_type": "execute_result",
          "data": {
            "text/plain": [
              "tensor([[0.7804, 0.8111],\n",
              "        [0.6109, 0.2298]])"
            ]
          },
          "metadata": {},
          "execution_count": 1
        }
      ],
      "source": [
        "import torch\n",
        "torch.rand(2,2)"
      ]
    },
    {
      "cell_type": "markdown",
      "source": [
        "## **Reshaping,Stacking,Sqeezing and Unsqueezing**\n",
        "\n",
        "* Reshaping-reshapes an input tensor to a dedined shape\n",
        "* View-Return a view of input tensor of certain shape but keeps the same memory as original\n",
        "* Stacking-Combines Multiple tensors on top of each other (vstack) or for side by side (hstack)\n",
        "* Sqeez- Removes all '1' Dimension from tensor\n",
        "* Unsqeez- add a 1 dimension to target tensor\n",
        "* Permute-Return a view of the input with dimension permuted(swapped)in certain way"
      ],
      "metadata": {
        "id": "tSGWVhqPDEyd"
      }
    },
    {
      "cell_type": "code",
      "source": [
        "x=torch.arange(1.,11.)\n",
        "x,x.shape"
      ],
      "metadata": {
        "colab": {
          "base_uri": "https://localhost:8080/"
        },
        "id": "AKkjfS6YCSC-",
        "outputId": "de84e102-c0ab-431f-d9b3-f400acf60162"
      },
      "execution_count": 2,
      "outputs": [
        {
          "output_type": "execute_result",
          "data": {
            "text/plain": [
              "(tensor([ 1.,  2.,  3.,  4.,  5.,  6.,  7.,  8.,  9., 10.]), torch.Size([10]))"
            ]
          },
          "metadata": {},
          "execution_count": 2
        }
      ]
    },
    {
      "cell_type": "code",
      "source": [
        "#Reshape\n",
        "print(x.reshape(5,2),end='\\n')\n",
        "print(x.reshape(2,5),end='\\n')\n",
        "print(x.reshape(10,1),end='\\n')"
      ],
      "metadata": {
        "colab": {
          "base_uri": "https://localhost:8080/"
        },
        "id": "tZNnulcRCSEy",
        "outputId": "266950d4-a89f-4591-e844-c846638328c2"
      },
      "execution_count": 3,
      "outputs": [
        {
          "output_type": "stream",
          "name": "stdout",
          "text": [
            "tensor([[ 1.,  2.],\n",
            "        [ 3.,  4.],\n",
            "        [ 5.,  6.],\n",
            "        [ 7.,  8.],\n",
            "        [ 9., 10.]])\n",
            "tensor([[ 1.,  2.,  3.,  4.,  5.],\n",
            "        [ 6.,  7.,  8.,  9., 10.]])\n",
            "tensor([[ 1.],\n",
            "        [ 2.],\n",
            "        [ 3.],\n",
            "        [ 4.],\n",
            "        [ 5.],\n",
            "        [ 6.],\n",
            "        [ 7.],\n",
            "        [ 8.],\n",
            "        [ 9.],\n",
            "        [10.]])\n"
          ]
        }
      ]
    },
    {
      "cell_type": "code",
      "source": [
        "#View\n",
        "z=x.view(5,2)\n",
        "z"
      ],
      "metadata": {
        "colab": {
          "base_uri": "https://localhost:8080/"
        },
        "id": "Ul6g3xc9CSJG",
        "outputId": "913a894f-2520-4886-85a5-3e9e0a59593c"
      },
      "execution_count": 4,
      "outputs": [
        {
          "output_type": "execute_result",
          "data": {
            "text/plain": [
              "tensor([[ 1.,  2.],\n",
              "        [ 3.,  4.],\n",
              "        [ 5.,  6.],\n",
              "        [ 7.,  8.],\n",
              "        [ 9., 10.]])"
            ]
          },
          "metadata": {},
          "execution_count": 4
        }
      ]
    },
    {
      "cell_type": "code",
      "source": [
        "#Stack\n",
        "x_stacked_verticle=torch.stack([x,x,x,x],dim=0)\n",
        "x_stacked_horizontal=torch.stack([x,x,x,x],dim=1)\n",
        "print(x_stacked_verticle,x_stacked_horizontal,sep='\\n')"
      ],
      "metadata": {
        "colab": {
          "base_uri": "https://localhost:8080/"
        },
        "id": "yROps0IlCSNK",
        "outputId": "0feea10c-3cb9-4afc-dbb7-924f16aa0bb1"
      },
      "execution_count": 5,
      "outputs": [
        {
          "output_type": "stream",
          "name": "stdout",
          "text": [
            "tensor([[ 1.,  2.,  3.,  4.,  5.,  6.,  7.,  8.,  9., 10.],\n",
            "        [ 1.,  2.,  3.,  4.,  5.,  6.,  7.,  8.,  9., 10.],\n",
            "        [ 1.,  2.,  3.,  4.,  5.,  6.,  7.,  8.,  9., 10.],\n",
            "        [ 1.,  2.,  3.,  4.,  5.,  6.,  7.,  8.,  9., 10.]])\n",
            "tensor([[ 1.,  1.,  1.,  1.],\n",
            "        [ 2.,  2.,  2.,  2.],\n",
            "        [ 3.,  3.,  3.,  3.],\n",
            "        [ 4.,  4.,  4.,  4.],\n",
            "        [ 5.,  5.,  5.,  5.],\n",
            "        [ 6.,  6.,  6.,  6.],\n",
            "        [ 7.,  7.,  7.,  7.],\n",
            "        [ 8.,  8.,  8.,  8.],\n",
            "        [ 9.,  9.,  9.,  9.],\n",
            "        [10., 10., 10., 10.]])\n"
          ]
        }
      ]
    },
    {
      "cell_type": "code",
      "source": [
        "#Squeez\n",
        "x_reshaped=x.reshape(1,10)\n",
        "x_reshaped,torch.squeeze(x_reshaped)"
      ],
      "metadata": {
        "colab": {
          "base_uri": "https://localhost:8080/"
        },
        "id": "dnvUumumCSOt",
        "outputId": "155c56d8-d297-4869-91fb-32672f461460"
      },
      "execution_count": 6,
      "outputs": [
        {
          "output_type": "execute_result",
          "data": {
            "text/plain": [
              "(tensor([[ 1.,  2.,  3.,  4.,  5.,  6.,  7.,  8.,  9., 10.]]),\n",
              " tensor([ 1.,  2.,  3.,  4.,  5.,  6.,  7.,  8.,  9., 10.]))"
            ]
          },
          "metadata": {},
          "execution_count": 6
        }
      ]
    },
    {
      "cell_type": "code",
      "source": [
        "#Unsqeez(Adds One dimension)\n",
        "torch.unsqueeze(x_stacked_verticle,dim=1)"
      ],
      "metadata": {
        "colab": {
          "base_uri": "https://localhost:8080/"
        },
        "id": "C4HXT0_4I61d",
        "outputId": "94e0bdea-a964-4c38-e9b0-7f0767d40092"
      },
      "execution_count": 7,
      "outputs": [
        {
          "output_type": "execute_result",
          "data": {
            "text/plain": [
              "tensor([[[ 1.,  2.,  3.,  4.,  5.,  6.,  7.,  8.,  9., 10.]],\n",
              "\n",
              "        [[ 1.,  2.,  3.,  4.,  5.,  6.,  7.,  8.,  9., 10.]],\n",
              "\n",
              "        [[ 1.,  2.,  3.,  4.,  5.,  6.,  7.,  8.,  9., 10.]],\n",
              "\n",
              "        [[ 1.,  2.,  3.,  4.,  5.,  6.,  7.,  8.,  9., 10.]]])"
            ]
          },
          "metadata": {},
          "execution_count": 7
        }
      ]
    },
    {
      "cell_type": "code",
      "source": [
        "#Torch.Permute\n",
        "#x=torch.rand(height,width,colour_channels)\n",
        "x=torch.rand(224,224,3)\n",
        "x\n",
        "print('Original:',x,end='\\n')\n",
        "#Permute(swap)\n",
        "print('Permuted',x.permute(2,0,1))\n",
        "\n",
        "print('Original Shape:',x.shape)\n",
        "print('Permuted Shape:',x.permute(2,0,1).shape)"
      ],
      "metadata": {
        "colab": {
          "base_uri": "https://localhost:8080/"
        },
        "id": "cATflxD8CSl8",
        "outputId": "a77dbed0-8633-4813-bad9-0ad4137b14ae"
      },
      "execution_count": 8,
      "outputs": [
        {
          "output_type": "stream",
          "name": "stdout",
          "text": [
            "Original: tensor([[[0.5011, 0.0820, 0.5942],\n",
            "         [0.5203, 0.6999, 0.3051],\n",
            "         [0.6648, 0.5412, 0.5233],\n",
            "         ...,\n",
            "         [0.2506, 0.0741, 0.1092],\n",
            "         [0.4863, 0.8452, 0.9048],\n",
            "         [0.1886, 0.0611, 0.0201]],\n",
            "\n",
            "        [[0.5996, 0.8061, 0.6700],\n",
            "         [0.1619, 0.9321, 0.7920],\n",
            "         [0.2756, 0.1212, 0.3048],\n",
            "         ...,\n",
            "         [0.1872, 0.7640, 0.5871],\n",
            "         [0.3808, 0.7811, 0.4614],\n",
            "         [0.6674, 0.3172, 0.3566]],\n",
            "\n",
            "        [[0.5129, 0.9447, 0.8758],\n",
            "         [0.6912, 0.5756, 0.8735],\n",
            "         [0.4158, 0.8130, 0.8714],\n",
            "         ...,\n",
            "         [0.6108, 0.3809, 0.1253],\n",
            "         [0.5832, 0.4753, 0.5970],\n",
            "         [0.5363, 0.4448, 0.6133]],\n",
            "\n",
            "        ...,\n",
            "\n",
            "        [[0.3126, 0.8131, 0.0755],\n",
            "         [0.5660, 0.5388, 0.8317],\n",
            "         [0.0493, 0.7105, 0.6474],\n",
            "         ...,\n",
            "         [0.9298, 0.2705, 0.8224],\n",
            "         [0.6614, 0.6525, 0.6523],\n",
            "         [0.9015, 0.8580, 0.7908]],\n",
            "\n",
            "        [[0.4047, 0.7169, 0.6872],\n",
            "         [0.3880, 0.5011, 0.7597],\n",
            "         [0.8818, 0.7017, 0.3761],\n",
            "         ...,\n",
            "         [0.5074, 0.6350, 0.4977],\n",
            "         [0.4570, 0.1378, 0.4328],\n",
            "         [0.6959, 0.7424, 0.0150]],\n",
            "\n",
            "        [[0.9801, 0.5952, 0.5840],\n",
            "         [0.0829, 0.6794, 0.1304],\n",
            "         [0.0178, 0.7091, 0.7059],\n",
            "         ...,\n",
            "         [0.6802, 0.7392, 0.2266],\n",
            "         [0.6604, 0.0163, 0.4890],\n",
            "         [0.8642, 0.6038, 0.5852]]])\n",
            "Permuted tensor([[[0.5011, 0.5203, 0.6648,  ..., 0.2506, 0.4863, 0.1886],\n",
            "         [0.5996, 0.1619, 0.2756,  ..., 0.1872, 0.3808, 0.6674],\n",
            "         [0.5129, 0.6912, 0.4158,  ..., 0.6108, 0.5832, 0.5363],\n",
            "         ...,\n",
            "         [0.3126, 0.5660, 0.0493,  ..., 0.9298, 0.6614, 0.9015],\n",
            "         [0.4047, 0.3880, 0.8818,  ..., 0.5074, 0.4570, 0.6959],\n",
            "         [0.9801, 0.0829, 0.0178,  ..., 0.6802, 0.6604, 0.8642]],\n",
            "\n",
            "        [[0.0820, 0.6999, 0.5412,  ..., 0.0741, 0.8452, 0.0611],\n",
            "         [0.8061, 0.9321, 0.1212,  ..., 0.7640, 0.7811, 0.3172],\n",
            "         [0.9447, 0.5756, 0.8130,  ..., 0.3809, 0.4753, 0.4448],\n",
            "         ...,\n",
            "         [0.8131, 0.5388, 0.7105,  ..., 0.2705, 0.6525, 0.8580],\n",
            "         [0.7169, 0.5011, 0.7017,  ..., 0.6350, 0.1378, 0.7424],\n",
            "         [0.5952, 0.6794, 0.7091,  ..., 0.7392, 0.0163, 0.6038]],\n",
            "\n",
            "        [[0.5942, 0.3051, 0.5233,  ..., 0.1092, 0.9048, 0.0201],\n",
            "         [0.6700, 0.7920, 0.3048,  ..., 0.5871, 0.4614, 0.3566],\n",
            "         [0.8758, 0.8735, 0.8714,  ..., 0.1253, 0.5970, 0.6133],\n",
            "         ...,\n",
            "         [0.0755, 0.8317, 0.6474,  ..., 0.8224, 0.6523, 0.7908],\n",
            "         [0.6872, 0.7597, 0.3761,  ..., 0.4977, 0.4328, 0.0150],\n",
            "         [0.5840, 0.1304, 0.7059,  ..., 0.2266, 0.4890, 0.5852]]])\n",
            "Original Shape: torch.Size([224, 224, 3])\n",
            "Permuted Shape: torch.Size([3, 224, 224])\n"
          ]
        }
      ]
    },
    {
      "cell_type": "markdown",
      "source": [
        "# **Indexing**\n",
        "\n",
        "* Indexing with pytorch is same as Numpy"
      ],
      "metadata": {
        "id": "deunIQ2F7OFc"
      }
    },
    {
      "cell_type": "code",
      "source": [
        "#create tensor\n",
        "x=torch.arange(1,10)\n",
        "print(x)\n",
        "x=x.reshape(1,3,3)\n",
        "print(x,x.size())"
      ],
      "metadata": {
        "colab": {
          "base_uri": "https://localhost:8080/"
        },
        "id": "xYb-eyAxCSt9",
        "outputId": "a10772ef-6d9e-491e-ef98-693ee7293c89"
      },
      "execution_count": 17,
      "outputs": [
        {
          "output_type": "stream",
          "name": "stdout",
          "text": [
            "tensor([1, 2, 3, 4, 5, 6, 7, 8, 9])\n",
            "tensor([[[1, 2, 3],\n",
            "         [4, 5, 6],\n",
            "         [7, 8, 9]]]) torch.Size([1, 3, 3])\n"
          ]
        }
      ]
    },
    {
      "cell_type": "code",
      "source": [
        "#index on our tensor\n",
        "x[0]"
      ],
      "metadata": {
        "colab": {
          "base_uri": "https://localhost:8080/"
        },
        "id": "8mJyRLg9CSvt",
        "outputId": "f8257e52-31ba-4921-cec5-993c6c190d8d"
      },
      "execution_count": 18,
      "outputs": [
        {
          "output_type": "execute_result",
          "data": {
            "text/plain": [
              "tensor([[1, 2, 3],\n",
              "        [4, 5, 6],\n",
              "        [7, 8, 9]])"
            ]
          },
          "metadata": {},
          "execution_count": 18
        }
      ]
    },
    {
      "cell_type": "code",
      "source": [
        "#index on middle brackets\n",
        "x[0][0]"
      ],
      "metadata": {
        "colab": {
          "base_uri": "https://localhost:8080/"
        },
        "id": "GnMJSOnDCSzs",
        "outputId": "b4b624c6-b86b-4775-f33b-55a833e34009"
      },
      "execution_count": 19,
      "outputs": [
        {
          "output_type": "execute_result",
          "data": {
            "text/plain": [
              "tensor([1, 2, 3])"
            ]
          },
          "metadata": {},
          "execution_count": 19
        }
      ]
    },
    {
      "cell_type": "code",
      "source": [
        "#index on last dimension\n",
        "x[0][0][0]"
      ],
      "metadata": {
        "colab": {
          "base_uri": "https://localhost:8080/"
        },
        "id": "qcESgvViCS1o",
        "outputId": "09926e4e-da0d-4e2e-db08-813e90d6dd00"
      },
      "execution_count": 20,
      "outputs": [
        {
          "output_type": "execute_result",
          "data": {
            "text/plain": [
              "tensor(1)"
            ]
          },
          "metadata": {},
          "execution_count": 20
        }
      ]
    },
    {
      "cell_type": "code",
      "source": [
        "x[1][1][1]"
      ],
      "metadata": {
        "colab": {
          "base_uri": "https://localhost:8080/",
          "height": 141
        },
        "id": "QUp1FG3N8BMa",
        "outputId": "ef0d9492-c838-4219-d6a6-3168c2cbd041"
      },
      "execution_count": 21,
      "outputs": [
        {
          "output_type": "error",
          "ename": "IndexError",
          "evalue": "index 1 is out of bounds for dimension 0 with size 1",
          "traceback": [
            "\u001b[0;31m---------------------------------------------------------------------------\u001b[0m",
            "\u001b[0;31mIndexError\u001b[0m                                Traceback (most recent call last)",
            "\u001b[0;32m<ipython-input-21-e270b96106f3>\u001b[0m in \u001b[0;36m<cell line: 1>\u001b[0;34m()\u001b[0m\n\u001b[0;32m----> 1\u001b[0;31m \u001b[0mx\u001b[0m\u001b[0;34m[\u001b[0m\u001b[0;36m1\u001b[0m\u001b[0;34m]\u001b[0m\u001b[0;34m[\u001b[0m\u001b[0;36m1\u001b[0m\u001b[0;34m]\u001b[0m\u001b[0;34m[\u001b[0m\u001b[0;36m1\u001b[0m\u001b[0;34m]\u001b[0m\u001b[0;34m\u001b[0m\u001b[0;34m\u001b[0m\u001b[0m\n\u001b[0m",
            "\u001b[0;31mIndexError\u001b[0m: index 1 is out of bounds for dimension 0 with size 1"
          ]
        }
      ]
    },
    {
      "cell_type": "code",
      "source": [
        "x[0][1]"
      ],
      "metadata": {
        "colab": {
          "base_uri": "https://localhost:8080/"
        },
        "id": "emnnwkeQ8XO-",
        "outputId": "2448838a-e715-45d8-fe63-6de0106bbf45"
      },
      "execution_count": 23,
      "outputs": [
        {
          "output_type": "execute_result",
          "data": {
            "text/plain": [
              "tensor([4, 5, 6])"
            ]
          },
          "metadata": {},
          "execution_count": 23
        }
      ]
    },
    {
      "cell_type": "code",
      "source": [
        "x[0][1][0]"
      ],
      "metadata": {
        "colab": {
          "base_uri": "https://localhost:8080/"
        },
        "id": "v_mjUUTU8bb4",
        "outputId": "61b120a9-acef-45fc-ab07-1704da3cb5bc"
      },
      "execution_count": 25,
      "outputs": [
        {
          "output_type": "execute_result",
          "data": {
            "text/plain": [
              "tensor(4)"
            ]
          },
          "metadata": {},
          "execution_count": 25
        }
      ]
    },
    {
      "cell_type": "code",
      "source": [
        "#We can also use ':' to select all of target dimension\n",
        "print(x[:,0,1],end='\\n\\n')\n",
        "print(x[:,:,:],end='\\n\\n')\n",
        "print(x[:,:,0],end='\\n\\n')\n",
        "print(x[:,:1,:],end='\\n\\n')\n",
        "print(x[:,:2,:2],end='\\n\\n')"
      ],
      "metadata": {
        "colab": {
          "base_uri": "https://localhost:8080/"
        },
        "id": "wyl58C07CS5a",
        "outputId": "874df3de-00cf-47d6-86e2-b6a8cd7705a6"
      },
      "execution_count": 36,
      "outputs": [
        {
          "output_type": "stream",
          "name": "stdout",
          "text": [
            "tensor([2])\n",
            "\n",
            "tensor([[[1, 2, 3],\n",
            "         [4, 5, 6],\n",
            "         [7, 8, 9]]])\n",
            "\n",
            "tensor([[1, 4, 7]])\n",
            "\n",
            "tensor([[[1, 2, 3]]])\n",
            "\n",
            "tensor([[[1, 2],\n",
            "         [4, 5]]])\n",
            "\n"
          ]
        }
      ]
    },
    {
      "cell_type": "code",
      "source": [
        "#Index on x to return 9\n",
        "print(x)\n",
        "print(x[:,2:,2:].reshape(1))"
      ],
      "metadata": {
        "colab": {
          "base_uri": "https://localhost:8080/"
        },
        "id": "BY0fQKAcCS7t",
        "outputId": "dc36a4e0-15e4-446c-af51-780fba95553b"
      },
      "execution_count": 48,
      "outputs": [
        {
          "output_type": "stream",
          "name": "stdout",
          "text": [
            "tensor([[[1, 2, 3],\n",
            "         [4, 5, 6],\n",
            "         [7, 8, 9]]])\n",
            "tensor([9])\n"
          ]
        }
      ]
    }
  ]
}