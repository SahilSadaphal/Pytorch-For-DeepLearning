{
  "nbformat": 4,
  "nbformat_minor": 0,
  "metadata": {
    "colab": {
      "provenance": []
    },
    "kernelspec": {
      "name": "python3",
      "display_name": "Python 3"
    },
    "language_info": {
      "name": "python"
    }
  },
  "cells": [
    {
      "cell_type": "markdown",
      "source": [
        "# **AUTOGRAD**"
      ],
      "metadata": {
        "id": "09oQ6iyvEAaP"
      }
    },
    {
      "cell_type": "markdown",
      "source": [
        "* Calculating Gradients Manually"
      ],
      "metadata": {
        "id": "jkTsw9e8FMQw"
      }
    },
    {
      "cell_type": "code",
      "source": [
        "import torch\n",
        "x=torch.tensor(int(input('Enter x: ')))\n",
        "y=x**2\n",
        "print(y)\n",
        "\n",
        "#Gradient for x\n",
        "def dy_dx(x):\n",
        "    return 2*x\n",
        "\n",
        "print('Gradient of x is:',dy_dx(x))\n"
      ],
      "metadata": {
        "colab": {
          "base_uri": "https://localhost:8080/"
        },
        "id": "SnaP3jC4EFZs",
        "outputId": "cdf19164-71ff-4df3-f429-a12d582c1f8a"
      },
      "execution_count": 8,
      "outputs": [
        {
          "output_type": "stream",
          "name": "stdout",
          "text": [
            "Enter x: 2\n",
            "tensor(4)\n",
            "Gradient of x is: tensor(4)\n"
          ]
        }
      ]
    },
    {
      "cell_type": "code",
      "source": [
        "# Previous Example was simple example but while doing calculation of gradients in Neural Networks we have to apply chain rules like\n",
        "# we have to implement backpropagation and do derivaties of entire chain and thus things get complex for example\n",
        "\n",
        "x=torch.tensor(int(input('Enter x: ')))\n",
        "\n",
        "y=x**2\n",
        "\n",
        "z=torch.sin(y)\n",
        "\n",
        "print('Z :',z)"
      ],
      "metadata": {
        "colab": {
          "base_uri": "https://localhost:8080/"
        },
        "id": "VpHivpvIEGYq",
        "outputId": "bb73ca3b-26c5-4326-b812-b5d5720de9f7"
      },
      "execution_count": 15,
      "outputs": [
        {
          "output_type": "stream",
          "name": "stdout",
          "text": [
            "Enter x: 12\n",
            "Z : tensor(-0.4910)\n"
          ]
        }
      ]
    },
    {
      "cell_type": "code",
      "source": [
        "#Now calculating Gradient of x is bit difficult manually\n",
        "def dz_dx(x):\n",
        "  return 2*x*math.cos(x**2)\n",
        "\n",
        "print('Gradient of x is:',dz_dx(x))\n"
      ],
      "metadata": {
        "colab": {
          "base_uri": "https://localhost:8080/"
        },
        "id": "zyOCMKtREGpK",
        "outputId": "94a658d1-98c0-4cff-c440-4902e3a7ddef"
      },
      "execution_count": 18,
      "outputs": [
        {
          "output_type": "stream",
          "name": "stdout",
          "text": [
            "Gradient of x is: tensor(20.9075)\n"
          ]
        }
      ]
    },
    {
      "cell_type": "markdown",
      "source": [
        "## **Here comes Autograd**"
      ],
      "metadata": {
        "id": "7JVAjRgwIZpR"
      }
    },
    {
      "cell_type": "code",
      "source": [
        "x=torch.tensor(float(input('Enter input x:')),requires_grad=True)\n",
        "y=x**2\n",
        "z=torch.sin(y)\n",
        "print('Z :',z)\n",
        "\n",
        "#Gradient Calculation Using Autograd\n",
        "z.backward()\n",
        "grad_x=x.grad\n",
        "print('gradient of x :',grad_x)\n"
      ],
      "metadata": {
        "colab": {
          "base_uri": "https://localhost:8080/"
        },
        "id": "9Ze3SgSfEG50",
        "outputId": "28be2598-6074-4a29-d91e-420d79898ed1"
      },
      "execution_count": 22,
      "outputs": [
        {
          "output_type": "stream",
          "name": "stdout",
          "text": [
            "Enter input x:12\n",
            "Z : tensor(-0.4910, grad_fn=<SinBackward0>)\n",
            "gradient of x : tensor(20.9075)\n"
          ]
        }
      ]
    },
    {
      "cell_type": "markdown",
      "source": [
        "## **Lets Build Single Perceptron**"
      ],
      "metadata": {
        "id": "1Qf82LfUTLeR"
      }
    },
    {
      "cell_type": "code",
      "source": [
        "import torch\n",
        "x1=torch.tensor(float(input('Enter input x1:'))) #input 1\n",
        "x2=torch.tensor(float(input('Enter input x2:'))) #input 2\n",
        "y=torch.tensor(0.0)                              #y_true_label in data(binary classifiction )"
      ],
      "metadata": {
        "colab": {
          "base_uri": "https://localhost:8080/"
        },
        "id": "w4rmD7ctEHWT",
        "outputId": "4290675e-929e-4102-af04-e542b9f1cece"
      },
      "execution_count": 52,
      "outputs": [
        {
          "name": "stdout",
          "output_type": "stream",
          "text": [
            "Enter input x1:1\n",
            "Enter input x2:3\n"
          ]
        }
      ]
    },
    {
      "cell_type": "code",
      "source": [
        "#Weights\n",
        "w1=torch.tensor(1.0,requires_grad=True)\n",
        "w2=torch.tensor(1.0,requires_grad=True)\n",
        "\n",
        "#Bias\n",
        "b=torch.tensor(0.0,requires_grad=True)"
      ],
      "metadata": {
        "id": "-rkhbWGtEHht"
      },
      "execution_count": 53,
      "outputs": []
    },
    {
      "cell_type": "code",
      "source": [
        "#Prediction\n",
        "z=w1*x1+w2*x2+b\n",
        "y_pred=torch.sigmoid(z)\n",
        "print(y_pred)"
      ],
      "metadata": {
        "colab": {
          "base_uri": "https://localhost:8080/"
        },
        "id": "WlePXxynEHqC",
        "outputId": "bad4840b-b9d3-4353-cccb-390c2b802f77"
      },
      "execution_count": 54,
      "outputs": [
        {
          "output_type": "stream",
          "name": "stdout",
          "text": [
            "tensor(0.9820, grad_fn=<SigmoidBackward0>)\n"
          ]
        }
      ]
    },
    {
      "cell_type": "code",
      "source": [
        "#Loss Funtion\n",
        "def binary_cross_entropy_loss(prediction, target):\n",
        "    epsilon = 1e-8  # To prevent log(0)\n",
        "    prediction = torch.clamp(prediction, epsilon, 1 - epsilon)\n",
        "    return -(target * torch.log(prediction) + (1 - target) * torch.log(1 - prediction))"
      ],
      "metadata": {
        "id": "HE0FnjqxEHxG"
      },
      "execution_count": 55,
      "outputs": []
    },
    {
      "cell_type": "code",
      "source": [
        "loss=binary_cross_entropy_loss(y_pred,y)\n",
        "print(loss)\n",
        "loss.backward()"
      ],
      "metadata": {
        "colab": {
          "base_uri": "https://localhost:8080/"
        },
        "id": "s9XcgvBZEH3l",
        "outputId": "617f0634-6630-4232-f292-fccbb5f7dcd7"
      },
      "execution_count": 56,
      "outputs": [
        {
          "output_type": "stream",
          "name": "stdout",
          "text": [
            "tensor(4.0181, grad_fn=<NegBackward0>)\n"
          ]
        }
      ]
    },
    {
      "cell_type": "code",
      "source": [
        "print('w1 gradient:',w1.grad)\n",
        "print('w2 gradient:',w2.grad)\n",
        "print('b gradient',b.grad)"
      ],
      "metadata": {
        "colab": {
          "base_uri": "https://localhost:8080/"
        },
        "id": "GgfI5J7JEH9u",
        "outputId": "18332bcf-db22-4137-c78a-831b153f6a2d"
      },
      "execution_count": 57,
      "outputs": [
        {
          "output_type": "stream",
          "name": "stdout",
          "text": [
            "w1 gradient: tensor(0.9820)\n",
            "w2 gradient: tensor(2.9460)\n",
            "b gradient tensor(0.9820)\n"
          ]
        }
      ]
    },
    {
      "cell_type": "markdown",
      "source": [
        "Gradient Calculation For Vector Tensor"
      ],
      "metadata": {
        "id": "7UwUw9sacuCE"
      }
    },
    {
      "cell_type": "code",
      "source": [
        "x = torch.tensor([1.0, 2.0, 3.0], requires_grad=True)"
      ],
      "metadata": {
        "id": "ezk7ofjAEIEV"
      },
      "execution_count": 58,
      "outputs": []
    },
    {
      "cell_type": "code",
      "source": [
        "y=(x**2).mean()"
      ],
      "metadata": {
        "id": "7bg26U5uEIKi"
      },
      "execution_count": 62,
      "outputs": []
    },
    {
      "cell_type": "code",
      "source": [
        "y.backward()"
      ],
      "metadata": {
        "id": "uaIGEhMvEIQY"
      },
      "execution_count": 63,
      "outputs": []
    },
    {
      "cell_type": "code",
      "source": [
        "x.grad"
      ],
      "metadata": {
        "colab": {
          "base_uri": "https://localhost:8080/"
        },
        "id": "XMjmE4HmEIWd",
        "outputId": "cb8b2eb5-122a-429d-f008-db607d1bb6fa"
      },
      "execution_count": 64,
      "outputs": [
        {
          "output_type": "execute_result",
          "data": {
            "text/plain": [
              "tensor([0.6667, 1.3333, 2.0000])"
            ]
          },
          "metadata": {},
          "execution_count": 64
        }
      ]
    },
    {
      "cell_type": "markdown",
      "source": [
        "Clearing Gradients\n"
      ],
      "metadata": {
        "id": "6xvWhtz1dHct"
      }
    },
    {
      "cell_type": "code",
      "source": [],
      "metadata": {
        "id": "VgzgXU_pEIbw"
      },
      "execution_count": null,
      "outputs": []
    },
    {
      "cell_type": "code",
      "source": [],
      "metadata": {
        "id": "TCtIRyMmEIfq"
      },
      "execution_count": null,
      "outputs": []
    },
    {
      "cell_type": "code",
      "source": [],
      "metadata": {
        "id": "rlvyevxmEIjj"
      },
      "execution_count": null,
      "outputs": []
    },
    {
      "cell_type": "code",
      "source": [],
      "metadata": {
        "id": "z0tWMoNFEImr"
      },
      "execution_count": null,
      "outputs": []
    },
    {
      "cell_type": "code",
      "source": [],
      "metadata": {
        "id": "5Og0xyJmEIpx"
      },
      "execution_count": null,
      "outputs": []
    },
    {
      "cell_type": "code",
      "source": [],
      "metadata": {
        "id": "42IJabncEIs8"
      },
      "execution_count": null,
      "outputs": []
    },
    {
      "cell_type": "code",
      "source": [],
      "metadata": {
        "id": "xCIVg8AEEIwJ"
      },
      "execution_count": null,
      "outputs": []
    },
    {
      "cell_type": "code",
      "source": [],
      "metadata": {
        "id": "7BiCgdXuEIzT"
      },
      "execution_count": null,
      "outputs": []
    },
    {
      "cell_type": "code",
      "source": [],
      "metadata": {
        "id": "aH8ktHBtEJK4"
      },
      "execution_count": null,
      "outputs": []
    },
    {
      "cell_type": "code",
      "source": [],
      "metadata": {
        "id": "j3eD4gsBEJQd"
      },
      "execution_count": null,
      "outputs": []
    },
    {
      "cell_type": "code",
      "source": [],
      "metadata": {
        "id": "n-8aE507EJWD"
      },
      "execution_count": null,
      "outputs": []
    },
    {
      "cell_type": "code",
      "source": [],
      "metadata": {
        "id": "jzLpiZWXEJbZ"
      },
      "execution_count": null,
      "outputs": []
    },
    {
      "cell_type": "code",
      "source": [],
      "metadata": {
        "id": "Dn-ulmbaEJgs"
      },
      "execution_count": null,
      "outputs": []
    },
    {
      "cell_type": "code",
      "source": [],
      "metadata": {
        "id": "l1mxXIlrEJmD"
      },
      "execution_count": null,
      "outputs": []
    },
    {
      "cell_type": "code",
      "source": [],
      "metadata": {
        "id": "bxKRv4tsEJrS"
      },
      "execution_count": null,
      "outputs": []
    },
    {
      "cell_type": "code",
      "source": [],
      "metadata": {
        "id": "X3YawgVWEJwS"
      },
      "execution_count": null,
      "outputs": []
    },
    {
      "cell_type": "code",
      "source": [],
      "metadata": {
        "id": "mh_s3eUgEJ1U"
      },
      "execution_count": null,
      "outputs": []
    },
    {
      "cell_type": "code",
      "source": [],
      "metadata": {
        "id": "5rYfxdpNEJ6b"
      },
      "execution_count": null,
      "outputs": []
    },
    {
      "cell_type": "code",
      "source": [],
      "metadata": {
        "id": "N6qW4VFwEJ_k"
      },
      "execution_count": null,
      "outputs": []
    },
    {
      "cell_type": "code",
      "source": [],
      "metadata": {
        "id": "_yC4zeltEKE0"
      },
      "execution_count": null,
      "outputs": []
    },
    {
      "cell_type": "code",
      "source": [],
      "metadata": {
        "id": "ZdENHV98EKKH"
      },
      "execution_count": null,
      "outputs": []
    },
    {
      "cell_type": "code",
      "source": [],
      "metadata": {
        "id": "RQx6kwzBEKPz"
      },
      "execution_count": null,
      "outputs": []
    },
    {
      "cell_type": "code",
      "source": [],
      "metadata": {
        "id": "-pir0qrxEKVY"
      },
      "execution_count": null,
      "outputs": []
    },
    {
      "cell_type": "code",
      "source": [],
      "metadata": {
        "id": "tRKMvhQAEKa2"
      },
      "execution_count": null,
      "outputs": []
    },
    {
      "cell_type": "code",
      "source": [],
      "metadata": {
        "id": "nd1dpd73EKgY"
      },
      "execution_count": null,
      "outputs": []
    },
    {
      "cell_type": "code",
      "source": [],
      "metadata": {
        "id": "mid6qridEKlx"
      },
      "execution_count": null,
      "outputs": []
    },
    {
      "cell_type": "code",
      "source": [],
      "metadata": {
        "id": "u0mvmg6YEKrD"
      },
      "execution_count": null,
      "outputs": []
    },
    {
      "cell_type": "code",
      "source": [],
      "metadata": {
        "id": "t5YbgZyqEKwm"
      },
      "execution_count": null,
      "outputs": []
    },
    {
      "cell_type": "code",
      "source": [],
      "metadata": {
        "id": "1KkqP5WxEK1i"
      },
      "execution_count": null,
      "outputs": []
    },
    {
      "cell_type": "code",
      "source": [],
      "metadata": {
        "id": "xm8vLxFeEK65"
      },
      "execution_count": null,
      "outputs": []
    },
    {
      "cell_type": "code",
      "source": [],
      "metadata": {
        "id": "tsbQe_qzEK_5"
      },
      "execution_count": null,
      "outputs": []
    }
  ]
}