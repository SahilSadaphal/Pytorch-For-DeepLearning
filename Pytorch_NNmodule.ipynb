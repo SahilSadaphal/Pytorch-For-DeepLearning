{
  "nbformat": 4,
  "nbformat_minor": 0,
  "metadata": {
    "colab": {
      "provenance": []
    },
    "kernelspec": {
      "name": "python3",
      "display_name": "Python 3"
    },
    "language_info": {
      "name": "python"
    }
  },
  "cells": [
    {
      "cell_type": "code",
      "execution_count": null,
      "metadata": {
        "id": "lYGsa-GV5W-X"
      },
      "outputs": [],
      "source": [
        "import torch\n",
        "import torch.nn as nn"
      ]
    },
    {
      "cell_type": "code",
      "source": [
        "class NN(nn.Module):\n",
        "  def __init__(self,num_features):\n",
        "    super().__init__()\n",
        "\n",
        "    self.network=nn.Sequential(\n",
        "        nn.Linear(num_features,3),\n",
        "        nn.ReLU(),\n",
        "        nn.Linear(3,1),\n",
        "        nn.Sigmoid()\n",
        "    )\n",
        "  def forward(self,x):\n",
        "    out=self.network(x)\n",
        "    return out"
      ],
      "metadata": {
        "id": "GlUiB1kl5cbK"
      },
      "execution_count": null,
      "outputs": []
    },
    {
      "cell_type": "code",
      "source": [
        "features=torch.randn(100,5)"
      ],
      "metadata": {
        "id": "4OdlEUwP5cfn"
      },
      "execution_count": null,
      "outputs": []
    },
    {
      "cell_type": "code",
      "source": [
        "model=NN(features.shape[1])\n",
        "model(features)"
      ],
      "metadata": {
        "colab": {
          "base_uri": "https://localhost:8080/"
        },
        "id": "n6h78JoN5cgq",
        "outputId": "a48c0fe4-e688-4176-ac52-cbc29a3ecbf2"
      },
      "execution_count": null,
      "outputs": [
        {
          "output_type": "execute_result",
          "data": {
            "text/plain": [
              "tensor([[0.4955],\n",
              "        [0.5117],\n",
              "        [0.5258],\n",
              "        [0.4905],\n",
              "        [0.5258],\n",
              "        [0.5348],\n",
              "        [0.5249],\n",
              "        [0.5100],\n",
              "        [0.5233],\n",
              "        [0.5262],\n",
              "        [0.5335],\n",
              "        [0.5258],\n",
              "        [0.5121],\n",
              "        [0.5258],\n",
              "        [0.5076],\n",
              "        [0.5258],\n",
              "        [0.5514],\n",
              "        [0.5279],\n",
              "        [0.5202],\n",
              "        [0.5132],\n",
              "        [0.5219],\n",
              "        [0.4944],\n",
              "        [0.5222],\n",
              "        [0.4865],\n",
              "        [0.5286],\n",
              "        [0.5190],\n",
              "        [0.5083],\n",
              "        [0.5262],\n",
              "        [0.5087],\n",
              "        [0.5258],\n",
              "        [0.5258],\n",
              "        [0.5101],\n",
              "        [0.5258],\n",
              "        [0.5205],\n",
              "        [0.5258],\n",
              "        [0.5072],\n",
              "        [0.5096],\n",
              "        [0.5259],\n",
              "        [0.4984],\n",
              "        [0.4857],\n",
              "        [0.4836],\n",
              "        [0.5258],\n",
              "        [0.5153],\n",
              "        [0.5274],\n",
              "        [0.5258],\n",
              "        [0.5436],\n",
              "        [0.5147],\n",
              "        [0.5458],\n",
              "        [0.5258],\n",
              "        [0.4991],\n",
              "        [0.5135],\n",
              "        [0.4953],\n",
              "        [0.5222],\n",
              "        [0.5513],\n",
              "        [0.5094],\n",
              "        [0.5258],\n",
              "        [0.4906],\n",
              "        [0.4984],\n",
              "        [0.5202],\n",
              "        [0.5183],\n",
              "        [0.5003],\n",
              "        [0.5021],\n",
              "        [0.5033],\n",
              "        [0.5208],\n",
              "        [0.5227],\n",
              "        [0.5258],\n",
              "        [0.5493],\n",
              "        [0.5195],\n",
              "        [0.5003],\n",
              "        [0.5379],\n",
              "        [0.5196],\n",
              "        [0.4919],\n",
              "        [0.5189],\n",
              "        [0.5177],\n",
              "        [0.4950],\n",
              "        [0.5144],\n",
              "        [0.5480],\n",
              "        [0.5279],\n",
              "        [0.5147],\n",
              "        [0.5229],\n",
              "        [0.5258],\n",
              "        [0.5222],\n",
              "        [0.5092],\n",
              "        [0.5293],\n",
              "        [0.5421],\n",
              "        [0.5392],\n",
              "        [0.5074],\n",
              "        [0.5144],\n",
              "        [0.5455],\n",
              "        [0.5313],\n",
              "        [0.5258],\n",
              "        [0.5285],\n",
              "        [0.5112],\n",
              "        [0.5124],\n",
              "        [0.5448],\n",
              "        [0.5322],\n",
              "        [0.5190],\n",
              "        [0.5382],\n",
              "        [0.5188],\n",
              "        [0.5184]], grad_fn=<SigmoidBackward0>)"
            ]
          },
          "metadata": {},
          "execution_count": 25
        }
      ]
    },
    {
      "cell_type": "code",
      "source": [
        "print(model.network[0].weight)  # Weights of the first Linear layer\n",
        "print(model.network[0].bias)\n",
        "\n",
        "print(model.network[2].weight)  # Weights of the first Linear layer\n",
        "print(model.network[2].bias)"
      ],
      "metadata": {
        "colab": {
          "base_uri": "https://localhost:8080/"
        },
        "id": "QVfpm-L45cj7",
        "outputId": "23b74b53-5365-48f3-a4da-b554ab692d51"
      },
      "execution_count": null,
      "outputs": [
        {
          "output_type": "stream",
          "name": "stdout",
          "text": [
            "Parameter containing:\n",
            "tensor([[-0.0522, -0.0321,  0.2050,  0.3214,  0.0570],\n",
            "        [ 0.0390, -0.0936,  0.3586, -0.2731,  0.1291],\n",
            "        [ 0.0448,  0.1437,  0.4111, -0.2202, -0.1506]], requires_grad=True)\n",
            "Parameter containing:\n",
            "tensor([ 0.2298, -0.1133,  0.1145], requires_grad=True)\n",
            "Parameter containing:\n",
            "tensor([[-0.1418,  0.1294,  0.0014]], requires_grad=True)\n",
            "Parameter containing:\n",
            "tensor([0.1031], requires_grad=True)\n"
          ]
        }
      ]
    },
    {
      "cell_type": "code",
      "source": [
        "from torchinfo import summary\n",
        "\n",
        "summary(model, input_size=(100, 5))"
      ],
      "metadata": {
        "colab": {
          "base_uri": "https://localhost:8080/"
        },
        "id": "ZaUAUuLO5clG",
        "outputId": "b287558d-16bc-43bf-cac9-40edf405ac3b"
      },
      "execution_count": null,
      "outputs": [
        {
          "output_type": "execute_result",
          "data": {
            "text/plain": [
              "==========================================================================================\n",
              "Layer (type:depth-idx)                   Output Shape              Param #\n",
              "==========================================================================================\n",
              "NN                                       [100, 1]                  --\n",
              "├─Sequential: 1-1                        [100, 1]                  --\n",
              "│    └─Linear: 2-1                       [100, 3]                  18\n",
              "│    └─ReLU: 2-2                         [100, 3]                  --\n",
              "│    └─Linear: 2-3                       [100, 1]                  4\n",
              "│    └─Sigmoid: 2-4                      [100, 1]                  --\n",
              "==========================================================================================\n",
              "Total params: 22\n",
              "Trainable params: 22\n",
              "Non-trainable params: 0\n",
              "Total mult-adds (Units.MEGABYTES): 0.00\n",
              "==========================================================================================\n",
              "Input size (MB): 0.00\n",
              "Forward/backward pass size (MB): 0.00\n",
              "Params size (MB): 0.00\n",
              "Estimated Total Size (MB): 0.01\n",
              "=========================================================================================="
            ]
          },
          "metadata": {},
          "execution_count": 42
        }
      ]
    },
    {
      "cell_type": "code",
      "source": [
        "!pip install torchinfo"
      ],
      "metadata": {
        "colab": {
          "base_uri": "https://localhost:8080/"
        },
        "id": "STEzKnBJ5coI",
        "outputId": "1429a1da-c253-4cfe-c863-fee35a5b4d10"
      },
      "execution_count": null,
      "outputs": [
        {
          "output_type": "stream",
          "name": "stdout",
          "text": [
            "Collecting torchinfo\n",
            "  Downloading torchinfo-1.8.0-py3-none-any.whl.metadata (21 kB)\n",
            "Downloading torchinfo-1.8.0-py3-none-any.whl (23 kB)\n",
            "Installing collected packages: torchinfo\n",
            "Successfully installed torchinfo-1.8.0\n"
          ]
        }
      ]
    },
    {
      "cell_type": "code",
      "source": [],
      "metadata": {
        "id": "tLsKvSfk5cpZ"
      },
      "execution_count": null,
      "outputs": []
    },
    {
      "cell_type": "code",
      "source": [],
      "metadata": {
        "id": "KCYVYsgK5cr5"
      },
      "execution_count": null,
      "outputs": []
    },
    {
      "cell_type": "code",
      "source": [],
      "metadata": {
        "id": "9mxcKWl-5ctQ"
      },
      "execution_count": null,
      "outputs": []
    },
    {
      "cell_type": "code",
      "source": [],
      "metadata": {
        "id": "nSw_O8mK5dH9"
      },
      "execution_count": null,
      "outputs": []
    },
    {
      "cell_type": "code",
      "source": [],
      "metadata": {
        "id": "WflJ2AHQ5dJn"
      },
      "execution_count": null,
      "outputs": []
    },
    {
      "cell_type": "code",
      "source": [],
      "metadata": {
        "id": "4qgKfSTl5dNa"
      },
      "execution_count": null,
      "outputs": []
    },
    {
      "cell_type": "code",
      "source": [],
      "metadata": {
        "id": "tlyN86MD5dO-"
      },
      "execution_count": null,
      "outputs": []
    },
    {
      "cell_type": "code",
      "source": [],
      "metadata": {
        "id": "1uDfqy0S5dSX"
      },
      "execution_count": null,
      "outputs": []
    },
    {
      "cell_type": "code",
      "source": [],
      "metadata": {
        "id": "phy29sXv5dT-"
      },
      "execution_count": null,
      "outputs": []
    },
    {
      "cell_type": "code",
      "source": [],
      "metadata": {
        "id": "_JgpLMDS5dXl"
      },
      "execution_count": null,
      "outputs": []
    }
  ]
}