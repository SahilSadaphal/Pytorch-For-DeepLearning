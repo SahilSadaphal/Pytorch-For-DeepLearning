{
  "nbformat": 4,
  "nbformat_minor": 0,
  "metadata": {
    "colab": {
      "provenance": [],
      "gpuType": "T4"
    },
    "kernelspec": {
      "name": "python3",
      "display_name": "Python 3"
    },
    "language_info": {
      "name": "python"
    },
    "accelerator": "GPU"
  },
  "cells": [
    {
      "cell_type": "code",
      "execution_count": 1,
      "metadata": {
        "id": "lnc3pogekzZJ"
      },
      "outputs": [],
      "source": [
        "import pandas as pd\n",
        "from sklearn.model_selection import train_test_split\n",
        "import torch\n",
        "from torch.utils.data import Dataset, DataLoader\n",
        "import torch.nn as nn\n",
        "import torch.optim as optim\n",
        "import matplotlib.pyplot as plt"
      ]
    },
    {
      "cell_type": "code",
      "source": [
        "# Set random seeds for reproducibility\n",
        "torch.manual_seed(42)"
      ],
      "metadata": {
        "colab": {
          "base_uri": "https://localhost:8080/"
        },
        "id": "pcbqyoTYk13Q",
        "outputId": "7a5b8d40-7d4b-4540-a8b8-281a17e2b690"
      },
      "execution_count": 2,
      "outputs": [
        {
          "output_type": "execute_result",
          "data": {
            "text/plain": [
              "<torch._C.Generator at 0x7f033e5101b0>"
            ]
          },
          "metadata": {},
          "execution_count": 2
        }
      ]
    },
    {
      "cell_type": "code",
      "source": [
        "# Check for GPU\n",
        "device = torch.device('cuda' if torch.cuda.is_available() else 'cpu')\n",
        "print(f\"Using device: {device}\")"
      ],
      "metadata": {
        "colab": {
          "base_uri": "https://localhost:8080/"
        },
        "id": "ZdGIGU2Xk145",
        "outputId": "7ecd8e22-e69d-4f74-f95d-4a0b00db4588"
      },
      "execution_count": 3,
      "outputs": [
        {
          "output_type": "stream",
          "name": "stdout",
          "text": [
            "Using device: cuda\n"
          ]
        }
      ]
    },
    {
      "cell_type": "code",
      "source": [
        "from google.colab import files\n",
        "files.upload()"
      ],
      "metadata": {
        "colab": {
          "base_uri": "https://localhost:8080/",
          "height": 90
        },
        "id": "FxdSoADRk19E",
        "outputId": "c029d8c9-baac-4f47-ed68-951b484a4882"
      },
      "execution_count": 4,
      "outputs": [
        {
          "output_type": "display_data",
          "data": {
            "text/plain": [
              "<IPython.core.display.HTML object>"
            ],
            "text/html": [
              "\n",
              "     <input type=\"file\" id=\"files-a4c86d60-951f-4d88-b767-8acfb42cb8c5\" name=\"files[]\" multiple disabled\n",
              "        style=\"border:none\" />\n",
              "     <output id=\"result-a4c86d60-951f-4d88-b767-8acfb42cb8c5\">\n",
              "      Upload widget is only available when the cell has been executed in the\n",
              "      current browser session. Please rerun this cell to enable.\n",
              "      </output>\n",
              "      <script>// Copyright 2017 Google LLC\n",
              "//\n",
              "// Licensed under the Apache License, Version 2.0 (the \"License\");\n",
              "// you may not use this file except in compliance with the License.\n",
              "// You may obtain a copy of the License at\n",
              "//\n",
              "//      http://www.apache.org/licenses/LICENSE-2.0\n",
              "//\n",
              "// Unless required by applicable law or agreed to in writing, software\n",
              "// distributed under the License is distributed on an \"AS IS\" BASIS,\n",
              "// WITHOUT WARRANTIES OR CONDITIONS OF ANY KIND, either express or implied.\n",
              "// See the License for the specific language governing permissions and\n",
              "// limitations under the License.\n",
              "\n",
              "/**\n",
              " * @fileoverview Helpers for google.colab Python module.\n",
              " */\n",
              "(function(scope) {\n",
              "function span(text, styleAttributes = {}) {\n",
              "  const element = document.createElement('span');\n",
              "  element.textContent = text;\n",
              "  for (const key of Object.keys(styleAttributes)) {\n",
              "    element.style[key] = styleAttributes[key];\n",
              "  }\n",
              "  return element;\n",
              "}\n",
              "\n",
              "// Max number of bytes which will be uploaded at a time.\n",
              "const MAX_PAYLOAD_SIZE = 100 * 1024;\n",
              "\n",
              "function _uploadFiles(inputId, outputId) {\n",
              "  const steps = uploadFilesStep(inputId, outputId);\n",
              "  const outputElement = document.getElementById(outputId);\n",
              "  // Cache steps on the outputElement to make it available for the next call\n",
              "  // to uploadFilesContinue from Python.\n",
              "  outputElement.steps = steps;\n",
              "\n",
              "  return _uploadFilesContinue(outputId);\n",
              "}\n",
              "\n",
              "// This is roughly an async generator (not supported in the browser yet),\n",
              "// where there are multiple asynchronous steps and the Python side is going\n",
              "// to poll for completion of each step.\n",
              "// This uses a Promise to block the python side on completion of each step,\n",
              "// then passes the result of the previous step as the input to the next step.\n",
              "function _uploadFilesContinue(outputId) {\n",
              "  const outputElement = document.getElementById(outputId);\n",
              "  const steps = outputElement.steps;\n",
              "\n",
              "  const next = steps.next(outputElement.lastPromiseValue);\n",
              "  return Promise.resolve(next.value.promise).then((value) => {\n",
              "    // Cache the last promise value to make it available to the next\n",
              "    // step of the generator.\n",
              "    outputElement.lastPromiseValue = value;\n",
              "    return next.value.response;\n",
              "  });\n",
              "}\n",
              "\n",
              "/**\n",
              " * Generator function which is called between each async step of the upload\n",
              " * process.\n",
              " * @param {string} inputId Element ID of the input file picker element.\n",
              " * @param {string} outputId Element ID of the output display.\n",
              " * @return {!Iterable<!Object>} Iterable of next steps.\n",
              " */\n",
              "function* uploadFilesStep(inputId, outputId) {\n",
              "  const inputElement = document.getElementById(inputId);\n",
              "  inputElement.disabled = false;\n",
              "\n",
              "  const outputElement = document.getElementById(outputId);\n",
              "  outputElement.innerHTML = '';\n",
              "\n",
              "  const pickedPromise = new Promise((resolve) => {\n",
              "    inputElement.addEventListener('change', (e) => {\n",
              "      resolve(e.target.files);\n",
              "    });\n",
              "  });\n",
              "\n",
              "  const cancel = document.createElement('button');\n",
              "  inputElement.parentElement.appendChild(cancel);\n",
              "  cancel.textContent = 'Cancel upload';\n",
              "  const cancelPromise = new Promise((resolve) => {\n",
              "    cancel.onclick = () => {\n",
              "      resolve(null);\n",
              "    };\n",
              "  });\n",
              "\n",
              "  // Wait for the user to pick the files.\n",
              "  const files = yield {\n",
              "    promise: Promise.race([pickedPromise, cancelPromise]),\n",
              "    response: {\n",
              "      action: 'starting',\n",
              "    }\n",
              "  };\n",
              "\n",
              "  cancel.remove();\n",
              "\n",
              "  // Disable the input element since further picks are not allowed.\n",
              "  inputElement.disabled = true;\n",
              "\n",
              "  if (!files) {\n",
              "    return {\n",
              "      response: {\n",
              "        action: 'complete',\n",
              "      }\n",
              "    };\n",
              "  }\n",
              "\n",
              "  for (const file of files) {\n",
              "    const li = document.createElement('li');\n",
              "    li.append(span(file.name, {fontWeight: 'bold'}));\n",
              "    li.append(span(\n",
              "        `(${file.type || 'n/a'}) - ${file.size} bytes, ` +\n",
              "        `last modified: ${\n",
              "            file.lastModifiedDate ? file.lastModifiedDate.toLocaleDateString() :\n",
              "                                    'n/a'} - `));\n",
              "    const percent = span('0% done');\n",
              "    li.appendChild(percent);\n",
              "\n",
              "    outputElement.appendChild(li);\n",
              "\n",
              "    const fileDataPromise = new Promise((resolve) => {\n",
              "      const reader = new FileReader();\n",
              "      reader.onload = (e) => {\n",
              "        resolve(e.target.result);\n",
              "      };\n",
              "      reader.readAsArrayBuffer(file);\n",
              "    });\n",
              "    // Wait for the data to be ready.\n",
              "    let fileData = yield {\n",
              "      promise: fileDataPromise,\n",
              "      response: {\n",
              "        action: 'continue',\n",
              "      }\n",
              "    };\n",
              "\n",
              "    // Use a chunked sending to avoid message size limits. See b/62115660.\n",
              "    let position = 0;\n",
              "    do {\n",
              "      const length = Math.min(fileData.byteLength - position, MAX_PAYLOAD_SIZE);\n",
              "      const chunk = new Uint8Array(fileData, position, length);\n",
              "      position += length;\n",
              "\n",
              "      const base64 = btoa(String.fromCharCode.apply(null, chunk));\n",
              "      yield {\n",
              "        response: {\n",
              "          action: 'append',\n",
              "          file: file.name,\n",
              "          data: base64,\n",
              "        },\n",
              "      };\n",
              "\n",
              "      let percentDone = fileData.byteLength === 0 ?\n",
              "          100 :\n",
              "          Math.round((position / fileData.byteLength) * 100);\n",
              "      percent.textContent = `${percentDone}% done`;\n",
              "\n",
              "    } while (position < fileData.byteLength);\n",
              "  }\n",
              "\n",
              "  // All done.\n",
              "  yield {\n",
              "    response: {\n",
              "      action: 'complete',\n",
              "    }\n",
              "  };\n",
              "}\n",
              "\n",
              "scope.google = scope.google || {};\n",
              "scope.google.colab = scope.google.colab || {};\n",
              "scope.google.colab._files = {\n",
              "  _uploadFiles,\n",
              "  _uploadFilesContinue,\n",
              "};\n",
              "})(self);\n",
              "</script> "
            ]
          },
          "metadata": {}
        },
        {
          "output_type": "stream",
          "name": "stdout",
          "text": [
            "Saving kaggle.json to kaggle.json\n"
          ]
        },
        {
          "output_type": "execute_result",
          "data": {
            "text/plain": [
              "{'kaggle.json': b'{\"username\":\"sahilsadaphal\",\"key\":\"5d4e2d845079fbb88b93751cdd4a160d\"}'}"
            ]
          },
          "metadata": {},
          "execution_count": 4
        }
      ]
    },
    {
      "cell_type": "code",
      "source": [
        "!mkdir -p ~/.kaggle"
      ],
      "metadata": {
        "id": "NC_M4qHOk1-p"
      },
      "execution_count": 5,
      "outputs": []
    },
    {
      "cell_type": "code",
      "source": [
        "!cp kaggle.json ~/.kaggle/"
      ],
      "metadata": {
        "id": "XR8_Dlqek2EB"
      },
      "execution_count": 6,
      "outputs": []
    },
    {
      "cell_type": "code",
      "source": [
        "!chmod 600 ~/.kaggle/kaggle.json"
      ],
      "metadata": {
        "id": "mqI59gKak2Fn"
      },
      "execution_count": 7,
      "outputs": []
    },
    {
      "cell_type": "code",
      "source": [
        "!kaggle datasets download -d zalando-research/fashionmnist"
      ],
      "metadata": {
        "colab": {
          "base_uri": "https://localhost:8080/"
        },
        "id": "ID2ANPUnk2Ju",
        "outputId": "8b468aa5-7ad8-4a02-9daf-4a47939b8292"
      },
      "execution_count": 8,
      "outputs": [
        {
          "output_type": "stream",
          "name": "stdout",
          "text": [
            "Dataset URL: https://www.kaggle.com/datasets/zalando-research/fashionmnist\n",
            "License(s): other\n"
          ]
        }
      ]
    },
    {
      "cell_type": "code",
      "source": [
        "!unzip fashionmnist.zip"
      ],
      "metadata": {
        "colab": {
          "base_uri": "https://localhost:8080/"
        },
        "id": "LoH0Frmuk2LB",
        "outputId": "3c81b9bb-ae9a-46ec-c676-a92561a6a094"
      },
      "execution_count": 9,
      "outputs": [
        {
          "output_type": "stream",
          "name": "stdout",
          "text": [
            "Archive:  fashionmnist.zip\n",
            "  inflating: fashion-mnist_test.csv  \n",
            "  inflating: fashion-mnist_train.csv  \n",
            "  inflating: t10k-images-idx3-ubyte  \n",
            "  inflating: t10k-labels-idx1-ubyte  \n",
            "  inflating: train-images-idx3-ubyte  \n",
            "  inflating: train-labels-idx1-ubyte  \n"
          ]
        }
      ]
    },
    {
      "cell_type": "code",
      "source": [
        "train_df=pd.read_csv('fashion-mnist_test.csv')\n",
        "test_df=pd.read_csv('fashion-mnist_train.csv')"
      ],
      "metadata": {
        "id": "glus1sepk2OW"
      },
      "execution_count": 10,
      "outputs": []
    },
    {
      "cell_type": "code",
      "source": [
        "from sklearn.model_selection import train_test_split\n",
        "x_train, x_val, y_train, y_val = train_test_split(train_df.drop('label', axis=1), train_df['label'], test_size=0.2, random_state=42)"
      ],
      "metadata": {
        "id": "XVfDQbBGk2Pp"
      },
      "execution_count": 19,
      "outputs": []
    },
    {
      "cell_type": "code",
      "source": [
        "from sklearn.preprocessing import StandardScaler,LabelEncoder\n",
        "scaler = StandardScaler()\n",
        "x_train = scaler.fit_transform(x_train)\n",
        "x_val = scaler.transform(x_val)\n",
        "y_train = LabelEncoder().fit_transform(y_train)\n",
        "y_val = LabelEncoder().fit_transform(y_val)"
      ],
      "metadata": {
        "id": "lZFSc301k2R1"
      },
      "execution_count": 22,
      "outputs": []
    },
    {
      "cell_type": "code",
      "source": [
        "x_train=torch.tensor(x_train,dtype=torch.float32)\n",
        "x_val=torch.tensor(x_val,dtype=torch.float32)\n",
        "y_train=torch.tensor(y_train,dtype=torch.long)\n",
        "y_val=torch.tensor(y_val,dtype=torch.long)"
      ],
      "metadata": {
        "id": "gWrx3td0k2TV"
      },
      "execution_count": 23,
      "outputs": []
    },
    {
      "cell_type": "code",
      "source": [
        "from torch.utils.data import Dataset, DataLoader\n",
        "class FashionMNISTDataset(Dataset):\n",
        "    def __init__(self, images, labels):\n",
        "        self.images = images\n",
        "        self.labels = labels\n",
        "    def __len__(self):\n",
        "        return len(self.images)\n",
        "    def __getitem__(self, idx):\n",
        "        image = self.images[idx]\n",
        "        label = self.labels[idx]\n",
        "        return image, label"
      ],
      "metadata": {
        "id": "j-IoSR7Ck2Yl"
      },
      "execution_count": 29,
      "outputs": []
    },
    {
      "cell_type": "code",
      "source": [
        "train_dataset=FashionMNISTDataset(x_train,y_train)\n",
        "val_dataset=FashionMNISTDataset(x_val,y_val)"
      ],
      "metadata": {
        "id": "YkvNlzmUk2aQ"
      },
      "execution_count": 30,
      "outputs": []
    },
    {
      "cell_type": "code",
      "source": [
        "train_loader = DataLoader(train_dataset, batch_size=32, shuffle=True)\n",
        "val_loader = DataLoader(val_dataset, batch_size=32, shuffle=False)"
      ],
      "metadata": {
        "id": "Ram1fjgLpP8W"
      },
      "execution_count": 31,
      "outputs": []
    },
    {
      "cell_type": "code",
      "source": [
        "epochs=100\n",
        "learning_rate=0.01"
      ],
      "metadata": {
        "id": "dxtJZsIjpP-D"
      },
      "execution_count": 32,
      "outputs": []
    },
    {
      "cell_type": "code",
      "source": [
        "from torch import nn\n",
        "class NeuralNetwork(nn.Module):\n",
        "    def __init__(self,num_features):\n",
        "        super().__init__()\n",
        "        self.network=nn.Sequential(\n",
        "        nn.Linear(num_features, 128),\n",
        "        nn.ReLU(),\n",
        "        nn.Linear(128, 64),\n",
        "        nn.ReLU(),\n",
        "        nn.Linear(64, 10)\n",
        "    )\n",
        "    def forward(self,x):\n",
        "        return self.network(x)"
      ],
      "metadata": {
        "id": "5cRuLQbopQCY"
      },
      "execution_count": 42,
      "outputs": []
    },
    {
      "cell_type": "code",
      "source": [
        "model=NeuralNetwork(x_train.shape[1])\n",
        "\n",
        "# loss function\n",
        "criterion = nn.CrossEntropyLoss()\n",
        "\n",
        "# optimizer\n",
        "optimizer = optim.SGD(model.parameters(), lr= learning_rate)"
      ],
      "metadata": {
        "id": "gpWZW60epQEf"
      },
      "execution_count": 43,
      "outputs": []
    },
    {
      "cell_type": "code",
      "source": [
        "model=model.to(device)"
      ],
      "metadata": {
        "id": "PXkFlAqRpQIB"
      },
      "execution_count": 44,
      "outputs": []
    },
    {
      "cell_type": "code",
      "source": [
        "# training loop\n",
        "\n",
        "for epoch in range(epochs):\n",
        "\n",
        "  total_epoch_loss = 0\n",
        "\n",
        "  for batch_features, batch_labels in train_loader:\n",
        "\n",
        "    # move data to gpu\n",
        "    batch_features, batch_labels = batch_features.to(device), batch_labels.to(device)\n",
        "\n",
        "    # forward pass\n",
        "    outputs = model(batch_features)\n",
        "\n",
        "    # calculate loss\n",
        "    loss = criterion(outputs, batch_labels)\n",
        "\n",
        "    # back pass\n",
        "    optimizer.zero_grad()\n",
        "    loss.backward()\n",
        "\n",
        "    # update grads\n",
        "    optimizer.step()\n",
        "\n",
        "    total_epoch_loss = total_epoch_loss + loss.item()\n",
        "\n",
        "  avg_loss = total_epoch_loss/len(train_loader)\n",
        "  print(f'Epoch: {epoch + 1} , Loss: {avg_loss}')"
      ],
      "metadata": {
        "colab": {
          "base_uri": "https://localhost:8080/"
        },
        "id": "QFowwjQgulMC",
        "outputId": "7fad4e3a-59d4-48b3-b0e3-e6d5d33d055f"
      },
      "execution_count": 45,
      "outputs": [
        {
          "output_type": "stream",
          "name": "stdout",
          "text": [
            "Epoch: 1 , Loss: 1.6212780709266663\n",
            "Epoch: 2 , Loss: 0.813254466176033\n",
            "Epoch: 3 , Loss: 0.6365203218460083\n",
            "Epoch: 4 , Loss: 0.5573340625166893\n",
            "Epoch: 5 , Loss: 0.5034914827942848\n",
            "Epoch: 6 , Loss: 0.46547371953725813\n",
            "Epoch: 7 , Loss: 0.4352888033390045\n",
            "Epoch: 8 , Loss: 0.4114372983574867\n",
            "Epoch: 9 , Loss: 0.392355677485466\n",
            "Epoch: 10 , Loss: 0.37741799613833427\n",
            "Epoch: 11 , Loss: 0.36019370970129966\n",
            "Epoch: 12 , Loss: 0.3480069290399551\n",
            "Epoch: 13 , Loss: 0.33477566942572595\n",
            "Epoch: 14 , Loss: 0.3231243506073952\n",
            "Epoch: 15 , Loss: 0.31146404981613157\n",
            "Epoch: 16 , Loss: 0.302643358618021\n",
            "Epoch: 17 , Loss: 0.2924816011190414\n",
            "Epoch: 18 , Loss: 0.28452718229591845\n",
            "Epoch: 19 , Loss: 0.27494548925757406\n",
            "Epoch: 20 , Loss: 0.26611452509462835\n",
            "Epoch: 21 , Loss: 0.25891543462872507\n",
            "Epoch: 22 , Loss: 0.24885056932270527\n",
            "Epoch: 23 , Loss: 0.24176362639665602\n",
            "Epoch: 24 , Loss: 0.23647559954226016\n",
            "Epoch: 25 , Loss: 0.2264820338487625\n",
            "Epoch: 26 , Loss: 0.21936156904697418\n",
            "Epoch: 27 , Loss: 0.21249183997511864\n",
            "Epoch: 28 , Loss: 0.20608951617777346\n",
            "Epoch: 29 , Loss: 0.19846753731369973\n",
            "Epoch: 30 , Loss: 0.19219774298369885\n",
            "Epoch: 31 , Loss: 0.1854315927475691\n",
            "Epoch: 32 , Loss: 0.17930164712667465\n",
            "Epoch: 33 , Loss: 0.1736549588441849\n",
            "Epoch: 34 , Loss: 0.1670503398925066\n",
            "Epoch: 35 , Loss: 0.16019687972962857\n",
            "Epoch: 36 , Loss: 0.15620093354582787\n",
            "Epoch: 37 , Loss: 0.1508380438014865\n",
            "Epoch: 38 , Loss: 0.14434812468290328\n",
            "Epoch: 39 , Loss: 0.13848922971636057\n",
            "Epoch: 40 , Loss: 0.13227813595533372\n",
            "Epoch: 41 , Loss: 0.1279749262034893\n",
            "Epoch: 42 , Loss: 0.12187210657447577\n",
            "Epoch: 43 , Loss: 0.11871225256472825\n",
            "Epoch: 44 , Loss: 0.11276695059239865\n",
            "Epoch: 45 , Loss: 0.10940097604691983\n",
            "Epoch: 46 , Loss: 0.10266485925018787\n",
            "Epoch: 47 , Loss: 0.09872051221132279\n",
            "Epoch: 48 , Loss: 0.09653494776785373\n",
            "Epoch: 49 , Loss: 0.09135048012435436\n",
            "Epoch: 50 , Loss: 0.08810145495459437\n",
            "Epoch: 51 , Loss: 0.08376728365197778\n",
            "Epoch: 52 , Loss: 0.07955078943818808\n",
            "Epoch: 53 , Loss: 0.07747036014124752\n",
            "Epoch: 54 , Loss: 0.07222680316865444\n",
            "Epoch: 55 , Loss: 0.06836500335484744\n",
            "Epoch: 56 , Loss: 0.06823524152487516\n",
            "Epoch: 57 , Loss: 0.0639988825712353\n",
            "Epoch: 58 , Loss: 0.061313151221722366\n",
            "Epoch: 59 , Loss: 0.05756016245111823\n",
            "Epoch: 60 , Loss: 0.05710244770720601\n",
            "Epoch: 61 , Loss: 0.05349513440579176\n",
            "Epoch: 62 , Loss: 0.04976918402686715\n",
            "Epoch: 63 , Loss: 0.04696053498610854\n",
            "Epoch: 64 , Loss: 0.04565041787177324\n",
            "Epoch: 65 , Loss: 0.04332826888374984\n",
            "Epoch: 66 , Loss: 0.04072604644671082\n",
            "Epoch: 67 , Loss: 0.03941401736810803\n",
            "Epoch: 68 , Loss: 0.03795870561338961\n",
            "Epoch: 69 , Loss: 0.03415957324579358\n",
            "Epoch: 70 , Loss: 0.03411748214438558\n",
            "Epoch: 71 , Loss: 0.032177751548588276\n",
            "Epoch: 72 , Loss: 0.030590554052963854\n",
            "Epoch: 73 , Loss: 0.02877119731530547\n",
            "Epoch: 74 , Loss: 0.02864690934121609\n",
            "Epoch: 75 , Loss: 0.026917641228996217\n",
            "Epoch: 76 , Loss: 0.025755349427461625\n",
            "Epoch: 77 , Loss: 0.023809866569936274\n",
            "Epoch: 78 , Loss: 0.023241820067167282\n",
            "Epoch: 79 , Loss: 0.022132691686041654\n",
            "Epoch: 80 , Loss: 0.021175507811829447\n",
            "Epoch: 81 , Loss: 0.02030507109500468\n",
            "Epoch: 82 , Loss: 0.019271314047276975\n",
            "Epoch: 83 , Loss: 0.018331407020799814\n",
            "Epoch: 84 , Loss: 0.01774817467201501\n",
            "Epoch: 85 , Loss: 0.016566001664847136\n",
            "Epoch: 86 , Loss: 0.016739001950249077\n",
            "Epoch: 87 , Loss: 0.015699893437325953\n",
            "Epoch: 88 , Loss: 0.015471547619905322\n",
            "Epoch: 89 , Loss: 0.01470561474468559\n",
            "Epoch: 90 , Loss: 0.0140465136654675\n",
            "Epoch: 91 , Loss: 0.013336014558561145\n",
            "Epoch: 92 , Loss: 0.013273256190121175\n",
            "Epoch: 93 , Loss: 0.012661789575591683\n",
            "Epoch: 94 , Loss: 0.012105154382530599\n",
            "Epoch: 95 , Loss: 0.011824518459849059\n",
            "Epoch: 96 , Loss: 0.011197033714503049\n",
            "Epoch: 97 , Loss: 0.010974865481257439\n",
            "Epoch: 98 , Loss: 0.010555867075920105\n",
            "Epoch: 99 , Loss: 0.010306888880673796\n",
            "Epoch: 100 , Loss: 0.009939921899233014\n"
          ]
        }
      ]
    },
    {
      "cell_type": "code",
      "source": [
        "model.eval()"
      ],
      "metadata": {
        "colab": {
          "base_uri": "https://localhost:8080/"
        },
        "id": "yUeSPScnuvvy",
        "outputId": "591734c9-f396-4066-d989-c74e5717d3a3"
      },
      "execution_count": 46,
      "outputs": [
        {
          "output_type": "execute_result",
          "data": {
            "text/plain": [
              "NeuralNetwork(\n",
              "  (network): Sequential(\n",
              "    (0): Linear(in_features=784, out_features=128, bias=True)\n",
              "    (1): ReLU()\n",
              "    (2): Linear(in_features=128, out_features=64, bias=True)\n",
              "    (3): ReLU()\n",
              "    (4): Linear(in_features=64, out_features=10, bias=True)\n",
              "  )\n",
              ")"
            ]
          },
          "metadata": {},
          "execution_count": 46
        }
      ]
    },
    {
      "cell_type": "code",
      "source": [
        "# evaluation on train\n",
        "total = 0\n",
        "correct = 0\n",
        "\n",
        "with torch.no_grad():\n",
        "\n",
        "  for batch_features, batch_labels in train_loader:\n",
        "\n",
        "    # move data to gpu\n",
        "    batch_features, batch_labels = batch_features.to(device), batch_labels.to(device)\n",
        "\n",
        "    outputs = model(batch_features)\n",
        "\n",
        "    _, predicted = torch.max(outputs, 1)\n",
        "\n",
        "    total = total + batch_labels.shape[0]\n",
        "\n",
        "    correct = correct + (predicted == batch_labels).sum().item()\n",
        "\n",
        "print(correct/total)"
      ],
      "metadata": {
        "colab": {
          "base_uri": "https://localhost:8080/"
        },
        "id": "rJcBeLTwvS5q",
        "outputId": "61731c94-444a-4272-ae1b-7713c5f1f774"
      },
      "execution_count": 48,
      "outputs": [
        {
          "output_type": "stream",
          "name": "stdout",
          "text": [
            "1.0\n"
          ]
        }
      ]
    },
    {
      "cell_type": "code",
      "source": [
        "# evaluation on val\n",
        "total = 0\n",
        "correct = 0\n",
        "\n",
        "with torch.no_grad():\n",
        "\n",
        "  for batch_features, batch_labels in val_loader:\n",
        "\n",
        "    # move data to gpu\n",
        "    batch_features, batch_labels = batch_features.to(device), batch_labels.to(device)\n",
        "\n",
        "    outputs = model(batch_features)\n",
        "\n",
        "    _, predicted = torch.max(outputs, 1)\n",
        "\n",
        "    total = total + batch_labels.shape[0]\n",
        "\n",
        "    correct = correct + (predicted == batch_labels).sum().item()\n",
        "\n",
        "print(correct/total)"
      ],
      "metadata": {
        "colab": {
          "base_uri": "https://localhost:8080/"
        },
        "id": "NfBC85sCuwPw",
        "outputId": "9a77c04d-579f-430d-8d21-dfaa17e4ed7f"
      },
      "execution_count": 49,
      "outputs": [
        {
          "output_type": "stream",
          "name": "stdout",
          "text": [
            "0.8515\n"
          ]
        }
      ]
    },
    {
      "cell_type": "code",
      "source": [],
      "metadata": {
        "id": "5AByh_Wtvduv"
      },
      "execution_count": 54,
      "outputs": []
    },
    {
      "cell_type": "code",
      "source": [
        "\n"
      ],
      "metadata": {
        "id": "8APnVvbbvdtD"
      },
      "execution_count": 54,
      "outputs": []
    },
    {
      "cell_type": "code",
      "source": [],
      "metadata": {
        "id": "o1_QBrEHvdpK"
      },
      "execution_count": null,
      "outputs": []
    },
    {
      "cell_type": "code",
      "source": [],
      "metadata": {
        "id": "-t7YUi6Dvdna"
      },
      "execution_count": null,
      "outputs": []
    },
    {
      "cell_type": "code",
      "source": [],
      "metadata": {
        "id": "CyUGyXSlvdjK"
      },
      "execution_count": null,
      "outputs": []
    },
    {
      "cell_type": "code",
      "source": [],
      "metadata": {
        "id": "ZRiVuQXJvdhm"
      },
      "execution_count": null,
      "outputs": []
    },
    {
      "cell_type": "code",
      "source": [],
      "metadata": {
        "id": "TOZooin2vdeX"
      },
      "execution_count": null,
      "outputs": []
    },
    {
      "cell_type": "code",
      "source": [],
      "metadata": {
        "id": "6y5pv9dxvdcz"
      },
      "execution_count": null,
      "outputs": []
    },
    {
      "cell_type": "code",
      "source": [],
      "metadata": {
        "id": "2QqDwLSXvdVO"
      },
      "execution_count": null,
      "outputs": []
    },
    {
      "cell_type": "code",
      "source": [],
      "metadata": {
        "id": "bXLKG03_vdHJ"
      },
      "execution_count": null,
      "outputs": []
    }
  ]
}